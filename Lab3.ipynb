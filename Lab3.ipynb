{
 "cells": [
  {
   "cell_type": "markdown",
   "metadata": {},
   "source": [
    "# Получение данных из train.csv"
   ]
  },
  {
   "cell_type": "code",
   "execution_count": 88,
   "metadata": {},
   "outputs": [],
   "source": [
    "import math\n",
    "import random\n",
    "import os\n",
    "import json\n",
    "import statistics\n",
    "\n",
    "import numpy as np\n",
    "import ast\n",
    "import pandas as pd\n",
    "import matplotlib.pyplot as plt\n",
    "from pandas.io.json import json_normalize\n",
    "import seaborn as sns\n",
    "from sklearn import datasets, ensemble\n",
    "from sklearn.inspection import permutation_importance\n",
    "from sklearn.linear_model import LinearRegression\n",
    "from sklearn.metrics import mean_squared_error\n",
    "from sklearn.model_selection import train_test_split\n",
    "from sklearn.model_selection import cross_val_score\n",
    "from sklearn.model_selection import ShuffleSplit\n",
    "from sklearn.pipeline import Pipeline\n",
    "from sklearn.preprocessing import StandardScaler\n",
    "from sklearn.preprocessing import PolynomialFeatures\n",
    "from sklearn.svm import SVR\n",
    "from sklearn.svm import LinearSVR"
   ]
  },
  {
   "cell_type": "code",
   "execution_count": 3,
   "metadata": {},
   "outputs": [],
   "source": [
    "df = pd.read_csv('train.csv', sep=',', low_memory=False)"
   ]
  },
  {
   "cell_type": "markdown",
   "metadata": {},
   "source": [
    "## Преобразование данных"
   ]
  },
  {
   "cell_type": "code",
   "execution_count": 58,
   "metadata": {},
   "outputs": [],
   "source": [
    "group_columns = ['device', 'geoNetwork', 'totals', 'trafficSource']\n",
    "# fullvisitorId - должно быть только string, так как при чтении в float может округлиться\n",
    "df = pd.read_csv('train.csv', \n",
    "                     converters={col: json.loads for col in group_columns}, \n",
    "                     dtype={'fullVisitorId': 'str'}, low_memory=False)\n",
    "# Берем случайные 10% выборки\n",
    "df = df.sample(frac=0.1).reset_index(drop=True)\n",
    "    \n",
    "for col in group_columns:\n",
    "    # Нормализация каждого сгруппированного столбца\n",
    "    normalizedColumn = pd.json_normalize(df[col])\n",
    "    # Именование каждого столбца\n",
    "    normalizedColumn.columns = [f\"{col}.{parameter}\" for parameter in normalizedColumn.columns]\n",
    "    # Удаление сгрупиированного столбца и добавление новых столбцов к DF\n",
    "    df = df.drop(col, axis=1)#.merge(normalizedColumn, right_index=True, left_index=True)\n",
    "    df = df.merge(normalizedColumn, right_index=True, left_index=True)"
   ]
  },
  {
   "cell_type": "code",
   "execution_count": 63,
   "metadata": {},
   "outputs": [
    {
     "name": "stdout",
     "output_type": "stream",
     "text": [
      "<class 'pandas.core.frame.DataFrame'>\n",
      "RangeIndex: 90365 entries, 0 to 90364\n",
      "Data columns (total 54 columns):\n",
      " #   Column                                             Non-Null Count  Dtype \n",
      "---  ------                                             --------------  ----- \n",
      " 0   channelGrouping                                    90365 non-null  object\n",
      " 1   date                                               90365 non-null  int64 \n",
      " 2   fullVisitorId                                      90365 non-null  object\n",
      " 3   sessionId                                          90365 non-null  object\n",
      " 4   socialEngagementType                               90365 non-null  object\n",
      " 5   visitId                                            90365 non-null  int64 \n",
      " 6   visitNumber                                        90365 non-null  int64 \n",
      " 7   visitStartTime                                     90365 non-null  int64 \n",
      " 8   device.browser                                     90365 non-null  object\n",
      " 9   device.browserVersion                              90365 non-null  object\n",
      " 10  device.browserSize                                 90365 non-null  object\n",
      " 11  device.operatingSystem                             90365 non-null  object\n",
      " 12  device.operatingSystemVersion                      90365 non-null  object\n",
      " 13  device.isMobile                                    90365 non-null  bool  \n",
      " 14  device.mobileDeviceBranding                        90365 non-null  object\n",
      " 15  device.mobileDeviceModel                           90365 non-null  object\n",
      " 16  device.mobileInputSelector                         90365 non-null  object\n",
      " 17  device.mobileDeviceInfo                            90365 non-null  object\n",
      " 18  device.mobileDeviceMarketingName                   90365 non-null  object\n",
      " 19  device.flashVersion                                90365 non-null  object\n",
      " 20  device.language                                    90365 non-null  object\n",
      " 21  device.screenColors                                90365 non-null  object\n",
      " 22  device.screenResolution                            90365 non-null  object\n",
      " 23  device.deviceCategory                              90365 non-null  object\n",
      " 24  geoNetwork.continent                               90365 non-null  object\n",
      " 25  geoNetwork.subContinent                            90365 non-null  object\n",
      " 26  geoNetwork.country                                 90365 non-null  object\n",
      " 27  geoNetwork.region                                  90365 non-null  object\n",
      " 28  geoNetwork.metro                                   90365 non-null  object\n",
      " 29  geoNetwork.city                                    90365 non-null  object\n",
      " 30  geoNetwork.cityId                                  90365 non-null  object\n",
      " 31  geoNetwork.networkDomain                           90365 non-null  object\n",
      " 32  geoNetwork.latitude                                90365 non-null  object\n",
      " 33  geoNetwork.longitude                               90365 non-null  object\n",
      " 34  geoNetwork.networkLocation                         90365 non-null  object\n",
      " 35  totals.visits                                      90365 non-null  object\n",
      " 36  totals.hits                                        90365 non-null  object\n",
      " 37  totals.pageviews                                   90353 non-null  object\n",
      " 38  totals.newVisits                                   70321 non-null  object\n",
      " 39  totals.bounces                                     45009 non-null  object\n",
      " 40  totals.transactionRevenue                          1160 non-null   object\n",
      " 41  trafficSource.campaign                             90365 non-null  object\n",
      " 42  trafficSource.source                               90365 non-null  object\n",
      " 43  trafficSource.medium                               90365 non-null  object\n",
      " 44  trafficSource.keyword                              39808 non-null  object\n",
      " 45  trafficSource.adwordsClickInfo.criteriaParameters  90365 non-null  object\n",
      " 46  trafficSource.isTrueDirect                         27530 non-null  object\n",
      " 47  trafficSource.referralPath                         33341 non-null  object\n",
      " 48  trafficSource.adwordsClickInfo.page                2039 non-null   object\n",
      " 49  trafficSource.adwordsClickInfo.slot                2039 non-null   object\n",
      " 50  trafficSource.adwordsClickInfo.gclId               2048 non-null   object\n",
      " 51  trafficSource.adwordsClickInfo.adNetworkType       2039 non-null   object\n",
      " 52  trafficSource.adwordsClickInfo.isVideoAd           2039 non-null   object\n",
      " 53  trafficSource.adContent                            1042 non-null   object\n",
      "dtypes: bool(1), int64(4), object(49)\n",
      "memory usage: 36.6+ MB\n"
     ]
    }
   ],
   "source": [
    "df.info()"
   ]
  },
  {
   "cell_type": "markdown",
   "metadata": {},
   "source": [
    "### Transaction -> float (похоже, можно было и в int)"
   ]
  },
  {
   "cell_type": "code",
   "execution_count": 240,
   "metadata": {},
   "outputs": [],
   "source": [
    "df['totals.transactionRevenue'] = df['totals.transactionRevenue'].astype(float)"
   ]
  },
  {
   "cell_type": "code",
   "execution_count": 241,
   "metadata": {},
   "outputs": [
    {
     "name": "stdout",
     "output_type": "stream",
     "text": [
      "<class 'pandas.core.frame.DataFrame'>\n",
      "RangeIndex: 90365 entries, 0 to 90364\n",
      "Data columns (total 54 columns):\n",
      " #   Column                                             Non-Null Count  Dtype  \n",
      "---  ------                                             --------------  -----  \n",
      " 0   channelGrouping                                    90365 non-null  object \n",
      " 1   date                                               90365 non-null  int64  \n",
      " 2   fullVisitorId                                      90365 non-null  object \n",
      " 3   sessionId                                          90365 non-null  object \n",
      " 4   socialEngagementType                               90365 non-null  object \n",
      " 5   visitId                                            90365 non-null  int64  \n",
      " 6   visitNumber                                        90365 non-null  int64  \n",
      " 7   visitStartTime                                     90365 non-null  int64  \n",
      " 8   device.browser                                     90365 non-null  object \n",
      " 9   device.browserVersion                              90365 non-null  object \n",
      " 10  device.browserSize                                 90365 non-null  object \n",
      " 11  device.operatingSystem                             90365 non-null  object \n",
      " 12  device.operatingSystemVersion                      90365 non-null  object \n",
      " 13  device.isMobile                                    90365 non-null  bool   \n",
      " 14  device.mobileDeviceBranding                        90365 non-null  object \n",
      " 15  device.mobileDeviceModel                           90365 non-null  object \n",
      " 16  device.mobileInputSelector                         90365 non-null  object \n",
      " 17  device.mobileDeviceInfo                            90365 non-null  object \n",
      " 18  device.mobileDeviceMarketingName                   90365 non-null  object \n",
      " 19  device.flashVersion                                90365 non-null  object \n",
      " 20  device.language                                    90365 non-null  object \n",
      " 21  device.screenColors                                90365 non-null  object \n",
      " 22  device.screenResolution                            90365 non-null  object \n",
      " 23  device.deviceCategory                              90365 non-null  object \n",
      " 24  geoNetwork.continent                               90365 non-null  object \n",
      " 25  geoNetwork.subContinent                            90365 non-null  object \n",
      " 26  geoNetwork.country                                 90365 non-null  object \n",
      " 27  geoNetwork.region                                  90365 non-null  object \n",
      " 28  geoNetwork.metro                                   90365 non-null  object \n",
      " 29  geoNetwork.city                                    90365 non-null  object \n",
      " 30  geoNetwork.cityId                                  90365 non-null  object \n",
      " 31  geoNetwork.networkDomain                           90365 non-null  object \n",
      " 32  geoNetwork.latitude                                90365 non-null  object \n",
      " 33  geoNetwork.longitude                               90365 non-null  object \n",
      " 34  geoNetwork.networkLocation                         90365 non-null  object \n",
      " 35  totals.visits                                      90365 non-null  object \n",
      " 36  totals.hits                                        90365 non-null  object \n",
      " 37  totals.pageviews                                   90362 non-null  object \n",
      " 38  totals.bounces                                     45210 non-null  object \n",
      " 39  totals.newVisits                                   70299 non-null  object \n",
      " 40  totals.transactionRevenue                          1138 non-null   float64\n",
      " 41  trafficSource.campaign                             90365 non-null  object \n",
      " 42  trafficSource.source                               90365 non-null  object \n",
      " 43  trafficSource.medium                               90365 non-null  object \n",
      " 44  trafficSource.adwordsClickInfo.criteriaParameters  90365 non-null  object \n",
      " 45  trafficSource.referralPath                         33096 non-null  object \n",
      " 46  trafficSource.keyword                              39950 non-null  object \n",
      " 47  trafficSource.isTrueDirect                         27505 non-null  object \n",
      " 48  trafficSource.adContent                            1111 non-null   object \n",
      " 49  trafficSource.adwordsClickInfo.page                2163 non-null   object \n",
      " 50  trafficSource.adwordsClickInfo.slot                2163 non-null   object \n",
      " 51  trafficSource.adwordsClickInfo.gclId               2173 non-null   object \n",
      " 52  trafficSource.adwordsClickInfo.adNetworkType       2163 non-null   object \n",
      " 53  trafficSource.adwordsClickInfo.isVideoAd           2163 non-null   object \n",
      "dtypes: bool(1), float64(1), int64(4), object(48)\n",
      "memory usage: 36.6+ MB\n"
     ]
    }
   ],
   "source": [
    "df.info()"
   ]
  },
  {
   "cell_type": "markdown",
   "metadata": {},
   "source": [
    "### Удаление ненужных столбцов: либо недоступных, либо тех которые описывают информацию, уже описывающуюся другими столбцами"
   ]
  },
  {
   "cell_type": "code",
   "execution_count": 242,
   "metadata": {},
   "outputs": [],
   "source": [
    "df = df.drop('sessionId', 1)"
   ]
  },
  {
   "cell_type": "code",
   "execution_count": 243,
   "metadata": {},
   "outputs": [],
   "source": [
    "df = df.drop('visitId', 1)"
   ]
  },
  {
   "cell_type": "code",
   "execution_count": 244,
   "metadata": {},
   "outputs": [],
   "source": [
    "df = df.drop('visitStartTime', 1)"
   ]
  },
  {
   "cell_type": "code",
   "execution_count": 245,
   "metadata": {},
   "outputs": [],
   "source": [
    "df = df.drop('device.browserVersion', 1)"
   ]
  },
  {
   "cell_type": "code",
   "execution_count": 246,
   "metadata": {},
   "outputs": [],
   "source": [
    "df = df.drop('device.browserSize', 1)"
   ]
  },
  {
   "cell_type": "code",
   "execution_count": 247,
   "metadata": {},
   "outputs": [],
   "source": [
    "df = df.drop('device.operatingSystemVersion', 1)"
   ]
  },
  {
   "cell_type": "code",
   "execution_count": 248,
   "metadata": {},
   "outputs": [],
   "source": [
    "df = df.drop('device.mobileDeviceBranding', 1)"
   ]
  },
  {
   "cell_type": "code",
   "execution_count": 249,
   "metadata": {},
   "outputs": [],
   "source": [
    "df = df.drop('device.mobileDeviceModel', 1)"
   ]
  },
  {
   "cell_type": "code",
   "execution_count": 250,
   "metadata": {},
   "outputs": [],
   "source": [
    "df = df.drop('device.mobileInputSelector', 1)"
   ]
  },
  {
   "cell_type": "code",
   "execution_count": 251,
   "metadata": {},
   "outputs": [],
   "source": [
    "df = df.drop('device.mobileDeviceInfo', 1)"
   ]
  },
  {
   "cell_type": "code",
   "execution_count": 252,
   "metadata": {},
   "outputs": [],
   "source": [
    "df = df.drop('device.mobileDeviceMarketingName', 1)"
   ]
  },
  {
   "cell_type": "code",
   "execution_count": 253,
   "metadata": {},
   "outputs": [],
   "source": [
    "df = df.drop('device.flashVersion', 1)"
   ]
  },
  {
   "cell_type": "code",
   "execution_count": 254,
   "metadata": {},
   "outputs": [],
   "source": [
    "df = df.drop('device.language', 1)"
   ]
  },
  {
   "cell_type": "code",
   "execution_count": 255,
   "metadata": {},
   "outputs": [],
   "source": [
    "df = df.drop('device.screenColors', 1)"
   ]
  },
  {
   "cell_type": "code",
   "execution_count": 256,
   "metadata": {},
   "outputs": [],
   "source": [
    "df = df.drop('device.screenResolution', 1)"
   ]
  },
  {
   "cell_type": "code",
   "execution_count": 257,
   "metadata": {},
   "outputs": [],
   "source": [
    "df = df.drop('geoNetwork.country', 1)"
   ]
  },
  {
   "cell_type": "code",
   "execution_count": 258,
   "metadata": {},
   "outputs": [],
   "source": [
    "df = df.drop('geoNetwork.region', 1)"
   ]
  },
  {
   "cell_type": "code",
   "execution_count": 259,
   "metadata": {},
   "outputs": [],
   "source": [
    "df = df.drop('geoNetwork.metro', 1)"
   ]
  },
  {
   "cell_type": "code",
   "execution_count": 260,
   "metadata": {},
   "outputs": [],
   "source": [
    "df = df.drop('geoNetwork.city', 1)"
   ]
  },
  {
   "cell_type": "code",
   "execution_count": 261,
   "metadata": {},
   "outputs": [],
   "source": [
    "df = df.drop('geoNetwork.cityId', 1)"
   ]
  },
  {
   "cell_type": "code",
   "execution_count": 262,
   "metadata": {},
   "outputs": [],
   "source": [
    "df = df.drop('geoNetwork.latitude', 1)"
   ]
  },
  {
   "cell_type": "code",
   "execution_count": 263,
   "metadata": {},
   "outputs": [],
   "source": [
    "df = df.drop('geoNetwork.longitude', 1)"
   ]
  },
  {
   "cell_type": "code",
   "execution_count": 264,
   "metadata": {},
   "outputs": [],
   "source": [
    "df = df.drop('geoNetwork.networkLocation', 1)"
   ]
  },
  {
   "cell_type": "code",
   "execution_count": 265,
   "metadata": {},
   "outputs": [],
   "source": [
    "df = df.drop('totals.visits', 1)"
   ]
  },
  {
   "cell_type": "code",
   "execution_count": 266,
   "metadata": {},
   "outputs": [],
   "source": [
    "df = df.drop('trafficSource.referralPath', 1)"
   ]
  },
  {
   "cell_type": "code",
   "execution_count": 267,
   "metadata": {},
   "outputs": [],
   "source": [
    "df = df.drop('trafficSource.adwordsClickInfo.criteriaParameters', 1)"
   ]
  },
  {
   "cell_type": "code",
   "execution_count": 268,
   "metadata": {},
   "outputs": [],
   "source": [
    "#df = df.drop('trafficSource.campaignCode', 1)"
   ]
  },
  {
   "cell_type": "code",
   "execution_count": 269,
   "metadata": {},
   "outputs": [],
   "source": [
    "df = df.drop('geoNetwork.subContinent', 1)"
   ]
  },
  {
   "cell_type": "code",
   "execution_count": 270,
   "metadata": {},
   "outputs": [],
   "source": [
    "df = df.drop('geoNetwork.networkDomain', 1)"
   ]
  },
  {
   "cell_type": "code",
   "execution_count": 271,
   "metadata": {},
   "outputs": [],
   "source": [
    "df = df.drop('trafficSource.campaign', 1)"
   ]
  },
  {
   "cell_type": "code",
   "execution_count": 272,
   "metadata": {},
   "outputs": [],
   "source": [
    "df = df.drop('trafficSource.medium', 1)"
   ]
  },
  {
   "cell_type": "code",
   "execution_count": 273,
   "metadata": {},
   "outputs": [],
   "source": [
    "df = df.drop('trafficSource.keyword', 1)"
   ]
  },
  {
   "cell_type": "code",
   "execution_count": 274,
   "metadata": {},
   "outputs": [],
   "source": [
    "df = df.drop('trafficSource.isTrueDirect', 1)"
   ]
  },
  {
   "cell_type": "code",
   "execution_count": 275,
   "metadata": {},
   "outputs": [],
   "source": [
    "df = df.drop('trafficSource.adwordsClickInfo.page', 1)"
   ]
  },
  {
   "cell_type": "code",
   "execution_count": 276,
   "metadata": {},
   "outputs": [],
   "source": [
    "df = df.drop('trafficSource.adwordsClickInfo.slot', 1)"
   ]
  },
  {
   "cell_type": "code",
   "execution_count": 277,
   "metadata": {},
   "outputs": [],
   "source": [
    "df = df.drop('trafficSource.adwordsClickInfo.gclId', 1)"
   ]
  },
  {
   "cell_type": "code",
   "execution_count": 278,
   "metadata": {},
   "outputs": [],
   "source": [
    "df = df.drop('trafficSource.adwordsClickInfo.isVideoAd', 1)"
   ]
  },
  {
   "cell_type": "code",
   "execution_count": 279,
   "metadata": {},
   "outputs": [],
   "source": [
    "df = df.drop('trafficSource.adContent', 1)"
   ]
  },
  {
   "cell_type": "code",
   "execution_count": 280,
   "metadata": {},
   "outputs": [],
   "source": [
    "df = df.drop('device.isMobile', 1)"
   ]
  },
  {
   "cell_type": "code",
   "execution_count": 281,
   "metadata": {},
   "outputs": [],
   "source": [
    "df = df.drop('trafficSource.source', 1)"
   ]
  },
  {
   "cell_type": "code",
   "execution_count": 282,
   "metadata": {},
   "outputs": [],
   "source": [
    "df = df.drop('socialEngagementType', 1)"
   ]
  },
  {
   "cell_type": "code",
   "execution_count": 283,
   "metadata": {},
   "outputs": [
    {
     "data": {
      "text/plain": [
       "channelGrouping                                             Display\n",
       "date                                                       20170108\n",
       "fullVisitorId                                   5082310728519609149\n",
       "visitNumber                                                       8\n",
       "device.browser                                               Safari\n",
       "device.operatingSystem                                          iOS\n",
       "device.deviceCategory                                        mobile\n",
       "geoNetwork.continent                                       Americas\n",
       "totals.hits                                                      10\n",
       "totals.pageviews                                                 10\n",
       "totals.bounces                                                  NaN\n",
       "totals.newVisits                                                NaN\n",
       "totals.transactionRevenue                                       NaN\n",
       "trafficSource.adwordsClickInfo.adNetworkType                    NaN\n",
       "Name: 0, dtype: object"
      ]
     },
     "execution_count": 283,
     "metadata": {},
     "output_type": "execute_result"
    }
   ],
   "source": [
    "df.iloc[0]"
   ]
  },
  {
   "cell_type": "markdown",
   "metadata": {},
   "source": [
    "### date -> Datetime - приводим параметр в строку, строку разбиваем на YYYYMMDD, по которым создаем datetime"
   ]
  },
  {
   "cell_type": "code",
   "execution_count": 284,
   "metadata": {},
   "outputs": [],
   "source": [
    "from datetime import datetime, timedelta\n",
    "for i in range(len(df['date'])):\n",
    "    dateString = str(df.loc[i, 'date'])\n",
    "    df.loc[i, 'date'] = datetime(year=int(dateString[0:4]), month=int(dateString[4:6]), day=int(dateString[6:8]))\n",
    "df['date'] = pd.to_datetime(df['date'])"
   ]
  },
  {
   "cell_type": "code",
   "execution_count": 286,
   "metadata": {},
   "outputs": [
    {
     "name": "stdout",
     "output_type": "stream",
     "text": [
      "<class 'pandas.core.frame.DataFrame'>\n",
      "RangeIndex: 90365 entries, 0 to 90364\n",
      "Data columns (total 14 columns):\n",
      " #   Column                                        Non-Null Count  Dtype         \n",
      "---  ------                                        --------------  -----         \n",
      " 0   channelGrouping                               90365 non-null  object        \n",
      " 1   date                                          90365 non-null  datetime64[ns]\n",
      " 2   fullVisitorId                                 90365 non-null  object        \n",
      " 3   visitNumber                                   90365 non-null  int64         \n",
      " 4   device.browser                                90365 non-null  object        \n",
      " 5   device.operatingSystem                        90365 non-null  object        \n",
      " 6   device.deviceCategory                         90365 non-null  object        \n",
      " 7   geoNetwork.continent                          90365 non-null  object        \n",
      " 8   totals.hits                                   90365 non-null  object        \n",
      " 9   totals.pageviews                              90362 non-null  object        \n",
      " 10  totals.bounces                                45210 non-null  object        \n",
      " 11  totals.newVisits                              70299 non-null  object        \n",
      " 12  totals.transactionRevenue                     1138 non-null   float64       \n",
      " 13  trafficSource.adwordsClickInfo.adNetworkType  2163 non-null   object        \n",
      "dtypes: datetime64[ns](1), float64(1), int64(1), object(11)\n",
      "memory usage: 9.7+ MB\n"
     ]
    }
   ],
   "source": [
    "df.info()"
   ]
  },
  {
   "cell_type": "markdown",
   "metadata": {},
   "source": [
    "### channelGrouping -> float в зависимости от транзакций для каждого типа\n",
    "### используется аналог \"счетчика\" для обработки категориальных признаков для задач классификации\n",
    "### Для каждой группы считается логарифм от суммы транзакций, после чего это число\n",
    "### для каждой группы делится на количество элементов в группе"
   ]
  },
  {
   "cell_type": "code",
   "execution_count": 287,
   "metadata": {},
   "outputs": [
    {
     "data": {
      "text/plain": [
       "1.699000e+07    26\n",
       "4.479000e+07    20\n",
       "1.899000e+07    19\n",
       "3.359000e+07    17\n",
       "1.359000e+07    16\n",
       "                ..\n",
       "1.509750e+09     1\n",
       "3.103100e+08     1\n",
       "7.756000e+07     1\n",
       "5.114000e+07     1\n",
       "1.678000e+07     1\n",
       "Name: totals.transactionRevenue, Length: 825, dtype: int64"
      ]
     },
     "execution_count": 287,
     "metadata": {},
     "output_type": "execute_result"
    }
   ],
   "source": [
    "df['totals.transactionRevenue'].value_counts()"
   ]
  },
  {
   "cell_type": "code",
   "execution_count": 288,
   "metadata": {},
   "outputs": [],
   "source": [
    "df['totals.transactionRevenue'] = df['totals.transactionRevenue'].fillna(0)"
   ]
  },
  {
   "cell_type": "code",
   "execution_count": 289,
   "metadata": {},
   "outputs": [],
   "source": [
    "df_channel = df.groupby(df['channelGrouping'])"
   ]
  },
  {
   "cell_type": "code",
   "execution_count": 290,
   "metadata": {},
   "outputs": [],
   "source": [
    "df_channel2 = df_channel.apply(lambda x: math.log(sum(x['totals.transactionRevenue'])+1))"
   ]
  },
  {
   "cell_type": "code",
   "execution_count": 292,
   "metadata": {},
   "outputs": [],
   "source": [
    "df_channel = df_channel.apply(lambda x: len(x))"
   ]
  },
  {
   "cell_type": "code",
   "execution_count": 293,
   "metadata": {},
   "outputs": [
    {
     "data": {
      "text/plain": [
       "channelGrouping\n",
       "(Other)              14\n",
       "Affiliates         1659\n",
       "Direct            14420\n",
       "Display             610\n",
       "Organic Search    38015\n",
       "Paid Search        2551\n",
       "Referral          10448\n",
       "Social            22648\n",
       "dtype: int64"
      ]
     },
     "execution_count": 293,
     "metadata": {},
     "output_type": "execute_result"
    }
   ],
   "source": [
    "df_channel"
   ]
  },
  {
   "cell_type": "code",
   "execution_count": 294,
   "metadata": {},
   "outputs": [
    {
     "data": {
      "text/plain": [
       "channelGrouping\n",
       "(Other)            0.000000\n",
       "Affiliates        15.891195\n",
       "Direct            24.407183\n",
       "Display           21.746838\n",
       "Organic Search    24.315336\n",
       "Paid Search       22.163805\n",
       "Referral          24.928908\n",
       "Social            20.034748\n",
       "dtype: float64"
      ]
     },
     "execution_count": 294,
     "metadata": {},
     "output_type": "execute_result"
    }
   ],
   "source": [
    "df_channel2"
   ]
  },
  {
   "cell_type": "code",
   "execution_count": 296,
   "metadata": {},
   "outputs": [],
   "source": [
    "channelGrouping = {\n",
    "    '(Other)' : df_channel2['(Other)'] / df_channel['(Other)'],\n",
    "    'Affiliates' : df_channel2['Affiliates'] / df_channel['Affiliates'],\n",
    "    'Direct' : df_channel2['Direct'] / df_channel['Direct'],\n",
    "    'Display' : df_channel2['Display'] / df_channel['Display'],\n",
    "    'Organic Search' : df_channel2['Organic Search'] / df_channel['Organic Search'],\n",
    "    'Paid Search' : df_channel2['Paid Search'] / df_channel['Paid Search'],\n",
    "    'Referral' : df_channel2['Referral'] / df_channel['Referral'],\n",
    "    'Social' : df_channel2['Social'] / df_channel['Social']\n",
    "}"
   ]
  },
  {
   "cell_type": "code",
   "execution_count": 297,
   "metadata": {},
   "outputs": [
    {
     "data": {
      "text/plain": [
       "{'(Other)': 0.0,\n",
       " 'Affiliates': 0.009578779491402595,\n",
       " 'Direct': 0.0016925924235791933,\n",
       " 'Display': 0.03565055481615784,\n",
       " 'Organic Search': 0.0006396247839911173,\n",
       " 'Paid Search': 0.008688280873835849,\n",
       " 'Referral': 0.002385998129089204,\n",
       " 'Social': 0.0008846144439580046}"
      ]
     },
     "execution_count": 297,
     "metadata": {},
     "output_type": "execute_result"
    }
   ],
   "source": [
    "channelGrouping"
   ]
  },
  {
   "cell_type": "code",
   "execution_count": 298,
   "metadata": {},
   "outputs": [],
   "source": [
    "df['channelGrouping'] = df['channelGrouping'].replace(channelGrouping)"
   ]
  },
  {
   "cell_type": "code",
   "execution_count": 299,
   "metadata": {},
   "outputs": [
    {
     "data": {
      "text/plain": [
       "0.000640    38015\n",
       "0.000885    22648\n",
       "0.001693    14420\n",
       "0.002386    10448\n",
       "0.008688     2551\n",
       "0.009579     1659\n",
       "0.035651      610\n",
       "0.000000       14\n",
       "Name: channelGrouping, dtype: int64"
      ]
     },
     "execution_count": 299,
     "metadata": {},
     "output_type": "execute_result"
    }
   ],
   "source": [
    "df['channelGrouping'].value_counts()"
   ]
  },
  {
   "cell_type": "code",
   "execution_count": 300,
   "metadata": {},
   "outputs": [
    {
     "name": "stdout",
     "output_type": "stream",
     "text": [
      "<class 'pandas.core.frame.DataFrame'>\n",
      "RangeIndex: 90365 entries, 0 to 90364\n",
      "Data columns (total 14 columns):\n",
      " #   Column                                        Non-Null Count  Dtype         \n",
      "---  ------                                        --------------  -----         \n",
      " 0   channelGrouping                               90365 non-null  float64       \n",
      " 1   date                                          90365 non-null  datetime64[ns]\n",
      " 2   fullVisitorId                                 90365 non-null  object        \n",
      " 3   visitNumber                                   90365 non-null  int64         \n",
      " 4   device.browser                                90365 non-null  object        \n",
      " 5   device.operatingSystem                        90365 non-null  object        \n",
      " 6   device.deviceCategory                         90365 non-null  object        \n",
      " 7   geoNetwork.continent                          90365 non-null  object        \n",
      " 8   totals.hits                                   90365 non-null  object        \n",
      " 9   totals.pageviews                              90362 non-null  object        \n",
      " 10  totals.bounces                                45210 non-null  object        \n",
      " 11  totals.newVisits                              70299 non-null  object        \n",
      " 12  totals.transactionRevenue                     90365 non-null  float64       \n",
      " 13  trafficSource.adwordsClickInfo.adNetworkType  2163 non-null   object        \n",
      "dtypes: datetime64[ns](1), float64(2), int64(1), object(10)\n",
      "memory usage: 9.7+ MB\n"
     ]
    }
   ],
   "source": [
    "df.info()"
   ]
  },
  {
   "cell_type": "markdown",
   "metadata": {},
   "source": [
    "### Browser -> dummy variables - создание столбцов со значениями (0/1) для самых популярных браузеров"
   ]
  },
  {
   "cell_type": "code",
   "execution_count": 303,
   "metadata": {},
   "outputs": [],
   "source": [
    "df['browser.Chrome'] = df['device.browser'] == 'Chrome'\n",
    "df['browser.Safari'] = df['device.browser'] == 'Safari'\n",
    "df['browser.Firefox'] = df['device.browser'] == 'Firefox'\n",
    "df['browser.IE'] = df['device.browser'] == 'Internet Explorer'\n",
    "df['browser.Edge'] = df['device.browser'] == 'Edge'\n",
    "df['browser.Other'] = (df['device.browser'] != 'Chrome') & (df['device.browser'] != 'Firefox') & (\n",
    "    df['device.browser'] != 'Safari') & (df['device.browser'] != 'Internet Explorer') & (df['device.browser'] != 'Edge')"
   ]
  },
  {
   "cell_type": "code",
   "execution_count": 304,
   "metadata": {},
   "outputs": [],
   "source": [
    "df = df.drop('device.browser', 1)"
   ]
  },
  {
   "cell_type": "markdown",
   "metadata": {},
   "source": [
    "### OperatingSystem -> dummy variables - создание столбцов со значениями (0/1) для самых популярных ОС"
   ]
  },
  {
   "cell_type": "code",
   "execution_count": 305,
   "metadata": {},
   "outputs": [
    {
     "data": {
      "text/plain": [
       "Windows          34765\n",
       "Macintosh        25452\n",
       "Android          12440\n",
       "iOS              10979\n",
       "Linux             3460\n",
       "Chrome OS         2628\n",
       "(not set)          454\n",
       "Windows Phone      115\n",
       "Samsung             23\n",
       "BlackBerry          23\n",
       "Nintendo Wii         7\n",
       "Firefox OS           6\n",
       "Xbox                 6\n",
       "Nintendo WiiU        5\n",
       "Nintendo 3DS         1\n",
       "FreeBSD              1\n",
       "Name: device.operatingSystem, dtype: int64"
      ]
     },
     "execution_count": 305,
     "metadata": {},
     "output_type": "execute_result"
    }
   ],
   "source": [
    "df['device.operatingSystem'].value_counts()"
   ]
  },
  {
   "cell_type": "code",
   "execution_count": 306,
   "metadata": {},
   "outputs": [],
   "source": [
    "df['OS.Windows'] = df['device.operatingSystem'] == 'Windows'\n",
    "df['OS.Mac'] = df['device.operatingSystem'] == 'Macintosh'\n",
    "df['OS.Android'] = df['device.operatingSystem'] == 'Android'\n",
    "df['OS.IOS'] = df['device.operatingSystem'] == 'iOS'\n",
    "df['OS.Linux'] = df['device.operatingSystem'] == 'Linux'\n",
    "df['OS.Other'] = (df['device.operatingSystem'] != 'Windows') & (df['device.operatingSystem'] != 'Macintosh') & (\n",
    "    df['device.operatingSystem'] != 'Android') & (df['device.operatingSystem'] != 'iOS') & (df['device.operatingSystem'] != 'Linux')"
   ]
  },
  {
   "cell_type": "code",
   "execution_count": 307,
   "metadata": {},
   "outputs": [],
   "source": [
    "df = df.drop('device.operatingSystem', 1)"
   ]
  },
  {
   "cell_type": "code",
   "execution_count": 308,
   "metadata": {},
   "outputs": [
    {
     "name": "stdout",
     "output_type": "stream",
     "text": [
      "<class 'pandas.core.frame.DataFrame'>\n",
      "RangeIndex: 90365 entries, 0 to 90364\n",
      "Data columns (total 24 columns):\n",
      " #   Column                                        Non-Null Count  Dtype         \n",
      "---  ------                                        --------------  -----         \n",
      " 0   channelGrouping                               90365 non-null  float64       \n",
      " 1   date                                          90365 non-null  datetime64[ns]\n",
      " 2   fullVisitorId                                 90365 non-null  object        \n",
      " 3   visitNumber                                   90365 non-null  int64         \n",
      " 4   device.deviceCategory                         90365 non-null  object        \n",
      " 5   geoNetwork.continent                          90365 non-null  object        \n",
      " 6   totals.hits                                   90365 non-null  object        \n",
      " 7   totals.pageviews                              90362 non-null  object        \n",
      " 8   totals.bounces                                45210 non-null  object        \n",
      " 9   totals.newVisits                              70299 non-null  object        \n",
      " 10  totals.transactionRevenue                     90365 non-null  float64       \n",
      " 11  trafficSource.adwordsClickInfo.adNetworkType  2163 non-null   object        \n",
      " 12  browser.Chrome                                90365 non-null  bool          \n",
      " 13  browser.Safari                                90365 non-null  bool          \n",
      " 14  browser.Firefox                               90365 non-null  bool          \n",
      " 15  browser.IE                                    90365 non-null  bool          \n",
      " 16  browser.Edge                                  90365 non-null  bool          \n",
      " 17  browser.Other                                 90365 non-null  bool          \n",
      " 18  OS.Windows                                    90365 non-null  bool          \n",
      " 19  OS.Mac                                        90365 non-null  bool          \n",
      " 20  OS.Android                                    90365 non-null  bool          \n",
      " 21  OS.IOS                                        90365 non-null  bool          \n",
      " 22  OS.Linux                                      90365 non-null  bool          \n",
      " 23  OS.Other                                      90365 non-null  bool          \n",
      "dtypes: bool(12), datetime64[ns](1), float64(2), int64(1), object(8)\n",
      "memory usage: 9.3+ MB\n"
     ]
    }
   ],
   "source": [
    "df.info()"
   ]
  },
  {
   "cell_type": "markdown",
   "metadata": {},
   "source": [
    "### DeviceCategory -> category\n",
    "### Делается предположение, что планшет - что-то среднее между компьютером и смартфоном, из-за чего группировка делается именно так:\n",
    "### Компьютер - 0\n",
    "### Планшет - 1\n",
    "### Смартфон - 2"
   ]
  },
  {
   "cell_type": "code",
   "execution_count": 309,
   "metadata": {},
   "outputs": [
    {
     "data": {
      "text/plain": [
       "desktop    66207\n",
       "mobile     21188\n",
       "tablet      2970\n",
       "Name: device.deviceCategory, dtype: int64"
      ]
     },
     "execution_count": 309,
     "metadata": {},
     "output_type": "execute_result"
    }
   ],
   "source": [
    "df['device.deviceCategory'].value_counts()"
   ]
  },
  {
   "cell_type": "code",
   "execution_count": 310,
   "metadata": {},
   "outputs": [],
   "source": [
    "deviceCats = {\n",
    "    'desktop' : 0,\n",
    "    'tablet' : 1,\n",
    "    'mobile' : 2\n",
    "}"
   ]
  },
  {
   "cell_type": "code",
   "execution_count": 311,
   "metadata": {},
   "outputs": [],
   "source": [
    "df['device.deviceCategory'] = df['device.deviceCategory'].replace(deviceCats)"
   ]
  },
  {
   "cell_type": "code",
   "execution_count": 312,
   "metadata": {},
   "outputs": [
    {
     "data": {
      "text/plain": [
       "0    66207\n",
       "2    21188\n",
       "1     2970\n",
       "Name: device.deviceCategory, dtype: int64"
      ]
     },
     "execution_count": 312,
     "metadata": {},
     "output_type": "execute_result"
    }
   ],
   "source": [
    "df['device.deviceCategory'].value_counts()"
   ]
  },
  {
   "cell_type": "code",
   "execution_count": 313,
   "metadata": {},
   "outputs": [
    {
     "name": "stdout",
     "output_type": "stream",
     "text": [
      "<class 'pandas.core.frame.DataFrame'>\n",
      "RangeIndex: 90365 entries, 0 to 90364\n",
      "Data columns (total 24 columns):\n",
      " #   Column                                        Non-Null Count  Dtype         \n",
      "---  ------                                        --------------  -----         \n",
      " 0   channelGrouping                               90365 non-null  float64       \n",
      " 1   date                                          90365 non-null  datetime64[ns]\n",
      " 2   fullVisitorId                                 90365 non-null  object        \n",
      " 3   visitNumber                                   90365 non-null  int64         \n",
      " 4   device.deviceCategory                         90365 non-null  int64         \n",
      " 5   geoNetwork.continent                          90365 non-null  object        \n",
      " 6   totals.hits                                   90365 non-null  object        \n",
      " 7   totals.pageviews                              90362 non-null  object        \n",
      " 8   totals.bounces                                45210 non-null  object        \n",
      " 9   totals.newVisits                              70299 non-null  object        \n",
      " 10  totals.transactionRevenue                     90365 non-null  float64       \n",
      " 11  trafficSource.adwordsClickInfo.adNetworkType  2163 non-null   object        \n",
      " 12  browser.Chrome                                90365 non-null  bool          \n",
      " 13  browser.Safari                                90365 non-null  bool          \n",
      " 14  browser.Firefox                               90365 non-null  bool          \n",
      " 15  browser.IE                                    90365 non-null  bool          \n",
      " 16  browser.Edge                                  90365 non-null  bool          \n",
      " 17  browser.Other                                 90365 non-null  bool          \n",
      " 18  OS.Windows                                    90365 non-null  bool          \n",
      " 19  OS.Mac                                        90365 non-null  bool          \n",
      " 20  OS.Android                                    90365 non-null  bool          \n",
      " 21  OS.IOS                                        90365 non-null  bool          \n",
      " 22  OS.Linux                                      90365 non-null  bool          \n",
      " 23  OS.Other                                      90365 non-null  bool          \n",
      "dtypes: bool(12), datetime64[ns](1), float64(2), int64(2), object(7)\n",
      "memory usage: 9.3+ MB\n"
     ]
    }
   ],
   "source": [
    "df.info()"
   ]
  },
  {
   "cell_type": "markdown",
   "metadata": {},
   "source": [
    "### geoNetwork.continent -> float (подобие \"счетчика\") - описано выше"
   ]
  },
  {
   "cell_type": "code",
   "execution_count": 314,
   "metadata": {},
   "outputs": [
    {
     "data": {
      "text/plain": [
       "Americas     45087\n",
       "Asia         22482\n",
       "Europe       19599\n",
       "Oceania       1568\n",
       "Africa        1491\n",
       "(not set)      138\n",
       "Name: geoNetwork.continent, dtype: int64"
      ]
     },
     "execution_count": 314,
     "metadata": {},
     "output_type": "execute_result"
    }
   ],
   "source": [
    "df['geoNetwork.continent'].value_counts()"
   ]
  },
  {
   "cell_type": "code",
   "execution_count": 315,
   "metadata": {},
   "outputs": [],
   "source": [
    "df_region = df.groupby(df['geoNetwork.continent'])"
   ]
  },
  {
   "cell_type": "code",
   "execution_count": 316,
   "metadata": {},
   "outputs": [],
   "source": [
    "df_region2 = df_region.apply(lambda x: math.log(sum(x['totals.transactionRevenue'])+1))"
   ]
  },
  {
   "cell_type": "code",
   "execution_count": 317,
   "metadata": {},
   "outputs": [],
   "source": [
    "df_region = df_region.apply(lambda x:len(x))"
   ]
  },
  {
   "cell_type": "code",
   "execution_count": 318,
   "metadata": {},
   "outputs": [
    {
     "data": {
      "text/plain": [
       "geoNetwork.continent\n",
       "(not set)      138\n",
       "Africa        1491\n",
       "Americas     45087\n",
       "Asia         22482\n",
       "Europe       19599\n",
       "Oceania       1568\n",
       "dtype: int64"
      ]
     },
     "execution_count": 318,
     "metadata": {},
     "output_type": "execute_result"
    }
   ],
   "source": [
    "df_region"
   ]
  },
  {
   "cell_type": "code",
   "execution_count": 319,
   "metadata": {},
   "outputs": [
    {
     "data": {
      "text/plain": [
       "geoNetwork.continent\n",
       "(not set)     0.000000\n",
       "Africa       21.307937\n",
       "Americas     25.707226\n",
       "Asia         21.643027\n",
       "Europe       19.124718\n",
       "Oceania      18.715661\n",
       "dtype: float64"
      ]
     },
     "execution_count": 319,
     "metadata": {},
     "output_type": "execute_result"
    }
   ],
   "source": [
    "df_region2"
   ]
  },
  {
   "cell_type": "code",
   "execution_count": 320,
   "metadata": {},
   "outputs": [],
   "source": [
    "regionGrouping = {\n",
    "    '(not set)' : df_region2['(not set)'] / df_region['(not set)'],\n",
    "    'Africa' : df_region2['Africa'] / df_region['Africa'],\n",
    "    'Americas' : df_region2['Americas'] / df_region['Americas'],\n",
    "    'Asia' : df_region2['Asia'] / df_region['Asia'],\n",
    "    'Europe' : df_region2['Europe'] / df_region['Europe'],\n",
    "    'Oceania' : df_region2['Oceania'] / df_region['Oceania'],\n",
    "}"
   ]
  },
  {
   "cell_type": "code",
   "execution_count": 321,
   "metadata": {},
   "outputs": [],
   "source": [
    "df['geoNetwork.continent'] = df['geoNetwork.continent'].replace(regionGrouping)"
   ]
  },
  {
   "cell_type": "code",
   "execution_count": 322,
   "metadata": {},
   "outputs": [
    {
     "data": {
      "text/plain": [
       "0.000570    45087\n",
       "0.000963    22482\n",
       "0.000976    19599\n",
       "0.011936     1568\n",
       "0.014291     1491\n",
       "0.000000      138\n",
       "Name: geoNetwork.continent, dtype: int64"
      ]
     },
     "execution_count": 322,
     "metadata": {},
     "output_type": "execute_result"
    }
   ],
   "source": [
    "df['geoNetwork.continent'].value_counts()"
   ]
  },
  {
   "cell_type": "code",
   "execution_count": 323,
   "metadata": {},
   "outputs": [
    {
     "name": "stdout",
     "output_type": "stream",
     "text": [
      "<class 'pandas.core.frame.DataFrame'>\n",
      "RangeIndex: 90365 entries, 0 to 90364\n",
      "Data columns (total 24 columns):\n",
      " #   Column                                        Non-Null Count  Dtype         \n",
      "---  ------                                        --------------  -----         \n",
      " 0   channelGrouping                               90365 non-null  float64       \n",
      " 1   date                                          90365 non-null  datetime64[ns]\n",
      " 2   fullVisitorId                                 90365 non-null  object        \n",
      " 3   visitNumber                                   90365 non-null  int64         \n",
      " 4   device.deviceCategory                         90365 non-null  int64         \n",
      " 5   geoNetwork.continent                          90365 non-null  float64       \n",
      " 6   totals.hits                                   90365 non-null  object        \n",
      " 7   totals.pageviews                              90362 non-null  object        \n",
      " 8   totals.bounces                                45210 non-null  object        \n",
      " 9   totals.newVisits                              70299 non-null  object        \n",
      " 10  totals.transactionRevenue                     90365 non-null  float64       \n",
      " 11  trafficSource.adwordsClickInfo.adNetworkType  2163 non-null   object        \n",
      " 12  browser.Chrome                                90365 non-null  bool          \n",
      " 13  browser.Safari                                90365 non-null  bool          \n",
      " 14  browser.Firefox                               90365 non-null  bool          \n",
      " 15  browser.IE                                    90365 non-null  bool          \n",
      " 16  browser.Edge                                  90365 non-null  bool          \n",
      " 17  browser.Other                                 90365 non-null  bool          \n",
      " 18  OS.Windows                                    90365 non-null  bool          \n",
      " 19  OS.Mac                                        90365 non-null  bool          \n",
      " 20  OS.Android                                    90365 non-null  bool          \n",
      " 21  OS.IOS                                        90365 non-null  bool          \n",
      " 22  OS.Linux                                      90365 non-null  bool          \n",
      " 23  OS.Other                                      90365 non-null  bool          \n",
      "dtypes: bool(12), datetime64[ns](1), float64(3), int64(2), object(6)\n",
      "memory usage: 9.3+ MB\n"
     ]
    }
   ],
   "source": [
    "df.info()"
   ]
  },
  {
   "cell_type": "markdown",
   "metadata": {},
   "source": [
    "### totals.hits -> int"
   ]
  },
  {
   "cell_type": "code",
   "execution_count": 324,
   "metadata": {},
   "outputs": [],
   "source": [
    "df['totals.hits'] = df['totals.hits'].astype(int)"
   ]
  },
  {
   "cell_type": "code",
   "execution_count": 325,
   "metadata": {},
   "outputs": [
    {
     "data": {
      "text/plain": [
       "1      44802\n",
       "2      13691\n",
       "3       7053\n",
       "4       4273\n",
       "5       3022\n",
       "       ...  \n",
       "113        1\n",
       "115        1\n",
       "207        1\n",
       "206        1\n",
       "191        1\n",
       "Name: totals.hits, Length: 158, dtype: int64"
      ]
     },
     "execution_count": 325,
     "metadata": {},
     "output_type": "execute_result"
    }
   ],
   "source": [
    "df['totals.hits'].value_counts()"
   ]
  },
  {
   "cell_type": "code",
   "execution_count": 326,
   "metadata": {},
   "outputs": [
    {
     "name": "stdout",
     "output_type": "stream",
     "text": [
      "<class 'pandas.core.frame.DataFrame'>\n",
      "RangeIndex: 90365 entries, 0 to 90364\n",
      "Data columns (total 24 columns):\n",
      " #   Column                                        Non-Null Count  Dtype         \n",
      "---  ------                                        --------------  -----         \n",
      " 0   channelGrouping                               90365 non-null  float64       \n",
      " 1   date                                          90365 non-null  datetime64[ns]\n",
      " 2   fullVisitorId                                 90365 non-null  object        \n",
      " 3   visitNumber                                   90365 non-null  int64         \n",
      " 4   device.deviceCategory                         90365 non-null  int64         \n",
      " 5   geoNetwork.continent                          90365 non-null  float64       \n",
      " 6   totals.hits                                   90365 non-null  int32         \n",
      " 7   totals.pageviews                              90362 non-null  object        \n",
      " 8   totals.bounces                                45210 non-null  object        \n",
      " 9   totals.newVisits                              70299 non-null  object        \n",
      " 10  totals.transactionRevenue                     90365 non-null  float64       \n",
      " 11  trafficSource.adwordsClickInfo.adNetworkType  2163 non-null   object        \n",
      " 12  browser.Chrome                                90365 non-null  bool          \n",
      " 13  browser.Safari                                90365 non-null  bool          \n",
      " 14  browser.Firefox                               90365 non-null  bool          \n",
      " 15  browser.IE                                    90365 non-null  bool          \n",
      " 16  browser.Edge                                  90365 non-null  bool          \n",
      " 17  browser.Other                                 90365 non-null  bool          \n",
      " 18  OS.Windows                                    90365 non-null  bool          \n",
      " 19  OS.Mac                                        90365 non-null  bool          \n",
      " 20  OS.Android                                    90365 non-null  bool          \n",
      " 21  OS.IOS                                        90365 non-null  bool          \n",
      " 22  OS.Linux                                      90365 non-null  bool          \n",
      " 23  OS.Other                                      90365 non-null  bool          \n",
      "dtypes: bool(12), datetime64[ns](1), float64(3), int32(1), int64(2), object(5)\n",
      "memory usage: 9.0+ MB\n"
     ]
    }
   ],
   "source": [
    "df.info()"
   ]
  },
  {
   "cell_type": "markdown",
   "metadata": {},
   "source": [
    "### totals.pageviews -> int32"
   ]
  },
  {
   "cell_type": "code",
   "execution_count": 327,
   "metadata": {},
   "outputs": [
    {
     "data": {
      "text/plain": [
       "1      45426\n",
       "2      14247\n",
       "3       7391\n",
       "4       4470\n",
       "5       3414\n",
       "       ...  \n",
       "102        1\n",
       "87         1\n",
       "183        1\n",
       "143        1\n",
       "147        1\n",
       "Name: totals.pageviews, Length: 120, dtype: int64"
      ]
     },
     "execution_count": 327,
     "metadata": {},
     "output_type": "execute_result"
    }
   ],
   "source": [
    "df['totals.pageviews'].value_counts()"
   ]
  },
  {
   "cell_type": "code",
   "execution_count": 328,
   "metadata": {},
   "outputs": [],
   "source": [
    "df['totals.pageviews'] = df['totals.pageviews'].fillna(1)"
   ]
  },
  {
   "cell_type": "code",
   "execution_count": 329,
   "metadata": {},
   "outputs": [],
   "source": [
    "df['totals.pageviews'] = df['totals.pageviews'].astype(int)"
   ]
  },
  {
   "cell_type": "code",
   "execution_count": 330,
   "metadata": {},
   "outputs": [
    {
     "name": "stdout",
     "output_type": "stream",
     "text": [
      "<class 'pandas.core.frame.DataFrame'>\n",
      "RangeIndex: 90365 entries, 0 to 90364\n",
      "Data columns (total 24 columns):\n",
      " #   Column                                        Non-Null Count  Dtype         \n",
      "---  ------                                        --------------  -----         \n",
      " 0   channelGrouping                               90365 non-null  float64       \n",
      " 1   date                                          90365 non-null  datetime64[ns]\n",
      " 2   fullVisitorId                                 90365 non-null  object        \n",
      " 3   visitNumber                                   90365 non-null  int64         \n",
      " 4   device.deviceCategory                         90365 non-null  int64         \n",
      " 5   geoNetwork.continent                          90365 non-null  float64       \n",
      " 6   totals.hits                                   90365 non-null  int32         \n",
      " 7   totals.pageviews                              90365 non-null  int32         \n",
      " 8   totals.bounces                                45210 non-null  object        \n",
      " 9   totals.newVisits                              70299 non-null  object        \n",
      " 10  totals.transactionRevenue                     90365 non-null  float64       \n",
      " 11  trafficSource.adwordsClickInfo.adNetworkType  2163 non-null   object        \n",
      " 12  browser.Chrome                                90365 non-null  bool          \n",
      " 13  browser.Safari                                90365 non-null  bool          \n",
      " 14  browser.Firefox                               90365 non-null  bool          \n",
      " 15  browser.IE                                    90365 non-null  bool          \n",
      " 16  browser.Edge                                  90365 non-null  bool          \n",
      " 17  browser.Other                                 90365 non-null  bool          \n",
      " 18  OS.Windows                                    90365 non-null  bool          \n",
      " 19  OS.Mac                                        90365 non-null  bool          \n",
      " 20  OS.Android                                    90365 non-null  bool          \n",
      " 21  OS.IOS                                        90365 non-null  bool          \n",
      " 22  OS.Linux                                      90365 non-null  bool          \n",
      " 23  OS.Other                                      90365 non-null  bool          \n",
      "dtypes: bool(12), datetime64[ns](1), float64(3), int32(2), int64(2), object(4)\n",
      "memory usage: 8.6+ MB\n"
     ]
    }
   ],
   "source": [
    "df.info()"
   ]
  },
  {
   "cell_type": "markdown",
   "metadata": {},
   "source": [
    "### totals.bounces -> bool\n",
    "### Есть значение отказов - если не NULL, значит отказ был, ввиду чего можно просто сделать переменную bool, где:\n",
    "### TRUE - отказ был осуществлен (1 в изначальном столбце)\n",
    "### FALSE - отказа не было (NULL в изначальном столбце)"
   ]
  },
  {
   "cell_type": "code",
   "execution_count": 331,
   "metadata": {},
   "outputs": [
    {
     "data": {
      "text/plain": [
       "1    45210\n",
       "Name: totals.bounces, dtype: int64"
      ]
     },
     "execution_count": 331,
     "metadata": {},
     "output_type": "execute_result"
    }
   ],
   "source": [
    "df['totals.bounces'].value_counts()"
   ]
  },
  {
   "cell_type": "code",
   "execution_count": 332,
   "metadata": {},
   "outputs": [],
   "source": [
    "df['totals.bounces'] = df['totals.bounces'].fillna(0)"
   ]
  },
  {
   "cell_type": "code",
   "execution_count": 333,
   "metadata": {},
   "outputs": [],
   "source": [
    "df['totals.bounces'] = df['totals.bounces'].astype(bool)"
   ]
  },
  {
   "cell_type": "code",
   "execution_count": 334,
   "metadata": {},
   "outputs": [
    {
     "name": "stdout",
     "output_type": "stream",
     "text": [
      "<class 'pandas.core.frame.DataFrame'>\n",
      "RangeIndex: 90365 entries, 0 to 90364\n",
      "Data columns (total 24 columns):\n",
      " #   Column                                        Non-Null Count  Dtype         \n",
      "---  ------                                        --------------  -----         \n",
      " 0   channelGrouping                               90365 non-null  float64       \n",
      " 1   date                                          90365 non-null  datetime64[ns]\n",
      " 2   fullVisitorId                                 90365 non-null  object        \n",
      " 3   visitNumber                                   90365 non-null  int64         \n",
      " 4   device.deviceCategory                         90365 non-null  int64         \n",
      " 5   geoNetwork.continent                          90365 non-null  float64       \n",
      " 6   totals.hits                                   90365 non-null  int32         \n",
      " 7   totals.pageviews                              90365 non-null  int32         \n",
      " 8   totals.bounces                                90365 non-null  bool          \n",
      " 9   totals.newVisits                              70299 non-null  object        \n",
      " 10  totals.transactionRevenue                     90365 non-null  float64       \n",
      " 11  trafficSource.adwordsClickInfo.adNetworkType  2163 non-null   object        \n",
      " 12  browser.Chrome                                90365 non-null  bool          \n",
      " 13  browser.Safari                                90365 non-null  bool          \n",
      " 14  browser.Firefox                               90365 non-null  bool          \n",
      " 15  browser.IE                                    90365 non-null  bool          \n",
      " 16  browser.Edge                                  90365 non-null  bool          \n",
      " 17  browser.Other                                 90365 non-null  bool          \n",
      " 18  OS.Windows                                    90365 non-null  bool          \n",
      " 19  OS.Mac                                        90365 non-null  bool          \n",
      " 20  OS.Android                                    90365 non-null  bool          \n",
      " 21  OS.IOS                                        90365 non-null  bool          \n",
      " 22  OS.Linux                                      90365 non-null  bool          \n",
      " 23  OS.Other                                      90365 non-null  bool          \n",
      "dtypes: bool(13), datetime64[ns](1), float64(3), int32(2), int64(2), object(3)\n",
      "memory usage: 8.0+ MB\n"
     ]
    }
   ],
   "source": [
    "df.info()"
   ]
  },
  {
   "cell_type": "markdown",
   "metadata": {},
   "source": [
    "### totals.newVisits -> bool\n",
    "### Есть значение первого визита - если не NULL, значит это первый визит, ввиду чего можно просто сделать переменную bool по предыдущему аналогу"
   ]
  },
  {
   "cell_type": "code",
   "execution_count": 335,
   "metadata": {},
   "outputs": [
    {
     "data": {
      "text/plain": [
       "1    70299\n",
       "Name: totals.newVisits, dtype: int64"
      ]
     },
     "execution_count": 335,
     "metadata": {},
     "output_type": "execute_result"
    }
   ],
   "source": [
    "df['totals.newVisits'].value_counts()"
   ]
  },
  {
   "cell_type": "code",
   "execution_count": 336,
   "metadata": {},
   "outputs": [],
   "source": [
    "df['totals.newVisits'] = df['totals.newVisits'].fillna(0)"
   ]
  },
  {
   "cell_type": "code",
   "execution_count": 337,
   "metadata": {},
   "outputs": [],
   "source": [
    "df['totals.newVisits'] = df['totals.newVisits'].astype(bool)"
   ]
  },
  {
   "cell_type": "code",
   "execution_count": 338,
   "metadata": {},
   "outputs": [
    {
     "name": "stdout",
     "output_type": "stream",
     "text": [
      "<class 'pandas.core.frame.DataFrame'>\n",
      "RangeIndex: 90365 entries, 0 to 90364\n",
      "Data columns (total 24 columns):\n",
      " #   Column                                        Non-Null Count  Dtype         \n",
      "---  ------                                        --------------  -----         \n",
      " 0   channelGrouping                               90365 non-null  float64       \n",
      " 1   date                                          90365 non-null  datetime64[ns]\n",
      " 2   fullVisitorId                                 90365 non-null  object        \n",
      " 3   visitNumber                                   90365 non-null  int64         \n",
      " 4   device.deviceCategory                         90365 non-null  int64         \n",
      " 5   geoNetwork.continent                          90365 non-null  float64       \n",
      " 6   totals.hits                                   90365 non-null  int32         \n",
      " 7   totals.pageviews                              90365 non-null  int32         \n",
      " 8   totals.bounces                                90365 non-null  bool          \n",
      " 9   totals.newVisits                              90365 non-null  bool          \n",
      " 10  totals.transactionRevenue                     90365 non-null  float64       \n",
      " 11  trafficSource.adwordsClickInfo.adNetworkType  2163 non-null   object        \n",
      " 12  browser.Chrome                                90365 non-null  bool          \n",
      " 13  browser.Safari                                90365 non-null  bool          \n",
      " 14  browser.Firefox                               90365 non-null  bool          \n",
      " 15  browser.IE                                    90365 non-null  bool          \n",
      " 16  browser.Edge                                  90365 non-null  bool          \n",
      " 17  browser.Other                                 90365 non-null  bool          \n",
      " 18  OS.Windows                                    90365 non-null  bool          \n",
      " 19  OS.Mac                                        90365 non-null  bool          \n",
      " 20  OS.Android                                    90365 non-null  bool          \n",
      " 21  OS.IOS                                        90365 non-null  bool          \n",
      " 22  OS.Linux                                      90365 non-null  bool          \n",
      " 23  OS.Other                                      90365 non-null  bool          \n",
      "dtypes: bool(14), datetime64[ns](1), float64(3), int32(2), int64(2), object(2)\n",
      "memory usage: 7.4+ MB\n"
     ]
    }
   ],
   "source": [
    "df.info()"
   ]
  },
  {
   "cell_type": "markdown",
   "metadata": {},
   "source": [
    "### trafficSource.adwordsClickInfo.adNetworkType -> bool\n",
    "### Если есть хоть какое-то значение -> TRUE\n",
    "### иначе -> FALSE"
   ]
  },
  {
   "cell_type": "code",
   "execution_count": 339,
   "metadata": {},
   "outputs": [
    {
     "data": {
      "text/plain": [
       "Google Search      2160\n",
       "Search partners       3\n",
       "Name: trafficSource.adwordsClickInfo.adNetworkType, dtype: int64"
      ]
     },
     "execution_count": 339,
     "metadata": {},
     "output_type": "execute_result"
    }
   ],
   "source": [
    "df['trafficSource.adwordsClickInfo.adNetworkType'].value_counts()"
   ]
  },
  {
   "cell_type": "code",
   "execution_count": 340,
   "metadata": {},
   "outputs": [],
   "source": [
    "df['trafficSource.adwordsClickInfo.adNetworkType'] = df['trafficSource.adwordsClickInfo.adNetworkType'].fillna(0)"
   ]
  },
  {
   "cell_type": "code",
   "execution_count": 341,
   "metadata": {},
   "outputs": [
    {
     "name": "stdout",
     "output_type": "stream",
     "text": [
      "0\n"
     ]
    }
   ],
   "source": [
    "count = 0\n",
    "for i in range(len(df['trafficSource.adwordsClickInfo.adNetworkType'])):\n",
    "    if df.loc[i, 'trafficSource.adwordsClickInfo.adNetworkType'] != 0:\n",
    "        df.loc[i, 'trafficSource.adwordsClickInfo.adNetworkType'] = 1\n",
    "print(count)"
   ]
  },
  {
   "cell_type": "code",
   "execution_count": 342,
   "metadata": {},
   "outputs": [
    {
     "data": {
      "text/plain": [
       "0    88202\n",
       "1     2163\n",
       "Name: trafficSource.adwordsClickInfo.adNetworkType, dtype: int64"
      ]
     },
     "execution_count": 342,
     "metadata": {},
     "output_type": "execute_result"
    }
   ],
   "source": [
    "df['trafficSource.adwordsClickInfo.adNetworkType'].value_counts()"
   ]
  },
  {
   "cell_type": "code",
   "execution_count": 343,
   "metadata": {},
   "outputs": [],
   "source": [
    "df['trafficSource.adwordsClickInfo.adNetworkType'] = df['trafficSource.adwordsClickInfo.adNetworkType'].astype(bool)"
   ]
  },
  {
   "cell_type": "markdown",
   "metadata": {},
   "source": [
    "# Summary Info:"
   ]
  },
  {
   "cell_type": "code",
   "execution_count": 344,
   "metadata": {},
   "outputs": [
    {
     "name": "stdout",
     "output_type": "stream",
     "text": [
      "<class 'pandas.core.frame.DataFrame'>\n",
      "RangeIndex: 90365 entries, 0 to 90364\n",
      "Data columns (total 24 columns):\n",
      " #   Column                                        Non-Null Count  Dtype         \n",
      "---  ------                                        --------------  -----         \n",
      " 0   channelGrouping                               90365 non-null  float64       \n",
      " 1   date                                          90365 non-null  datetime64[ns]\n",
      " 2   fullVisitorId                                 90365 non-null  object        \n",
      " 3   visitNumber                                   90365 non-null  int64         \n",
      " 4   device.deviceCategory                         90365 non-null  int64         \n",
      " 5   geoNetwork.continent                          90365 non-null  float64       \n",
      " 6   totals.hits                                   90365 non-null  int32         \n",
      " 7   totals.pageviews                              90365 non-null  int32         \n",
      " 8   totals.bounces                                90365 non-null  bool          \n",
      " 9   totals.newVisits                              90365 non-null  bool          \n",
      " 10  totals.transactionRevenue                     90365 non-null  float64       \n",
      " 11  trafficSource.adwordsClickInfo.adNetworkType  90365 non-null  bool          \n",
      " 12  browser.Chrome                                90365 non-null  bool          \n",
      " 13  browser.Safari                                90365 non-null  bool          \n",
      " 14  browser.Firefox                               90365 non-null  bool          \n",
      " 15  browser.IE                                    90365 non-null  bool          \n",
      " 16  browser.Edge                                  90365 non-null  bool          \n",
      " 17  browser.Other                                 90365 non-null  bool          \n",
      " 18  OS.Windows                                    90365 non-null  bool          \n",
      " 19  OS.Mac                                        90365 non-null  bool          \n",
      " 20  OS.Android                                    90365 non-null  bool          \n",
      " 21  OS.IOS                                        90365 non-null  bool          \n",
      " 22  OS.Linux                                      90365 non-null  bool          \n",
      " 23  OS.Other                                      90365 non-null  bool          \n",
      "dtypes: bool(15), datetime64[ns](1), float64(3), int32(2), int64(2), object(1)\n",
      "memory usage: 6.8+ MB\n"
     ]
    }
   ],
   "source": [
    "df.info()"
   ]
  },
  {
   "cell_type": "code",
   "execution_count": 345,
   "metadata": {},
   "outputs": [],
   "source": [
    "df1_reserve = df"
   ]
  },
  {
   "cell_type": "code",
   "execution_count": 346,
   "metadata": {},
   "outputs": [
    {
     "data": {
      "text/html": [
       "<div>\n",
       "<style scoped>\n",
       "    .dataframe tbody tr th:only-of-type {\n",
       "        vertical-align: middle;\n",
       "    }\n",
       "\n",
       "    .dataframe tbody tr th {\n",
       "        vertical-align: top;\n",
       "    }\n",
       "\n",
       "    .dataframe thead th {\n",
       "        text-align: right;\n",
       "    }\n",
       "</style>\n",
       "<table border=\"1\" class=\"dataframe\">\n",
       "  <thead>\n",
       "    <tr style=\"text-align: right;\">\n",
       "      <th></th>\n",
       "      <th>channelGrouping</th>\n",
       "      <th>visitNumber</th>\n",
       "      <th>device.deviceCategory</th>\n",
       "      <th>geoNetwork.continent</th>\n",
       "      <th>totals.hits</th>\n",
       "      <th>totals.pageviews</th>\n",
       "      <th>totals.transactionRevenue</th>\n",
       "    </tr>\n",
       "  </thead>\n",
       "  <tbody>\n",
       "    <tr>\n",
       "      <th>count</th>\n",
       "      <td>90365.000000</td>\n",
       "      <td>90365.000000</td>\n",
       "      <td>90365.000000</td>\n",
       "      <td>90365.000000</td>\n",
       "      <td>90365.000000</td>\n",
       "      <td>90365.000000</td>\n",
       "      <td>9.036500e+04</td>\n",
       "    </tr>\n",
       "    <tr>\n",
       "      <th>mean</th>\n",
       "      <td>0.001699</td>\n",
       "      <td>2.257345</td>\n",
       "      <td>0.501809</td>\n",
       "      <td>0.001179</td>\n",
       "      <td>4.577912</td>\n",
       "      <td>3.834737</td>\n",
       "      <td>1.667584e+06</td>\n",
       "    </tr>\n",
       "    <tr>\n",
       "      <th>std</th>\n",
       "      <td>0.003316</td>\n",
       "      <td>9.250798</td>\n",
       "      <td>0.847908</td>\n",
       "      <td>0.002248</td>\n",
       "      <td>9.428849</td>\n",
       "      <td>6.910947</td>\n",
       "      <td>3.591135e+07</td>\n",
       "    </tr>\n",
       "    <tr>\n",
       "      <th>min</th>\n",
       "      <td>0.000000</td>\n",
       "      <td>1.000000</td>\n",
       "      <td>0.000000</td>\n",
       "      <td>0.000000</td>\n",
       "      <td>1.000000</td>\n",
       "      <td>1.000000</td>\n",
       "      <td>0.000000e+00</td>\n",
       "    </tr>\n",
       "    <tr>\n",
       "      <th>25%</th>\n",
       "      <td>0.000640</td>\n",
       "      <td>1.000000</td>\n",
       "      <td>0.000000</td>\n",
       "      <td>0.000570</td>\n",
       "      <td>1.000000</td>\n",
       "      <td>1.000000</td>\n",
       "      <td>0.000000e+00</td>\n",
       "    </tr>\n",
       "    <tr>\n",
       "      <th>50%</th>\n",
       "      <td>0.000885</td>\n",
       "      <td>1.000000</td>\n",
       "      <td>0.000000</td>\n",
       "      <td>0.000570</td>\n",
       "      <td>2.000000</td>\n",
       "      <td>1.000000</td>\n",
       "      <td>0.000000e+00</td>\n",
       "    </tr>\n",
       "    <tr>\n",
       "      <th>75%</th>\n",
       "      <td>0.001693</td>\n",
       "      <td>1.000000</td>\n",
       "      <td>1.000000</td>\n",
       "      <td>0.000976</td>\n",
       "      <td>4.000000</td>\n",
       "      <td>4.000000</td>\n",
       "      <td>0.000000e+00</td>\n",
       "    </tr>\n",
       "    <tr>\n",
       "      <th>max</th>\n",
       "      <td>0.035651</td>\n",
       "      <td>388.000000</td>\n",
       "      <td>2.000000</td>\n",
       "      <td>0.014291</td>\n",
       "      <td>386.000000</td>\n",
       "      <td>343.000000</td>\n",
       "      <td>5.601400e+09</td>\n",
       "    </tr>\n",
       "  </tbody>\n",
       "</table>\n",
       "</div>"
      ],
      "text/plain": [
       "       channelGrouping   visitNumber  device.deviceCategory  \\\n",
       "count     90365.000000  90365.000000           90365.000000   \n",
       "mean          0.001699      2.257345               0.501809   \n",
       "std           0.003316      9.250798               0.847908   \n",
       "min           0.000000      1.000000               0.000000   \n",
       "25%           0.000640      1.000000               0.000000   \n",
       "50%           0.000885      1.000000               0.000000   \n",
       "75%           0.001693      1.000000               1.000000   \n",
       "max           0.035651    388.000000               2.000000   \n",
       "\n",
       "       geoNetwork.continent   totals.hits  totals.pageviews  \\\n",
       "count          90365.000000  90365.000000      90365.000000   \n",
       "mean               0.001179      4.577912          3.834737   \n",
       "std                0.002248      9.428849          6.910947   \n",
       "min                0.000000      1.000000          1.000000   \n",
       "25%                0.000570      1.000000          1.000000   \n",
       "50%                0.000570      2.000000          1.000000   \n",
       "75%                0.000976      4.000000          4.000000   \n",
       "max                0.014291    386.000000        343.000000   \n",
       "\n",
       "       totals.transactionRevenue  \n",
       "count               9.036500e+04  \n",
       "mean                1.667584e+06  \n",
       "std                 3.591135e+07  \n",
       "min                 0.000000e+00  \n",
       "25%                 0.000000e+00  \n",
       "50%                 0.000000e+00  \n",
       "75%                 0.000000e+00  \n",
       "max                 5.601400e+09  "
      ]
     },
     "execution_count": 346,
     "metadata": {},
     "output_type": "execute_result"
    }
   ],
   "source": [
    "df.describe()"
   ]
  },
  {
   "cell_type": "code",
   "execution_count": 347,
   "metadata": {},
   "outputs": [
    {
     "data": {
      "text/plain": [
       "[<matplotlib.lines.Line2D at 0x22cbc359730>]"
      ]
     },
     "execution_count": 347,
     "metadata": {},
     "output_type": "execute_result"
    },
    {
     "data": {
      "image/png": "[encoded data removed]",
      "text/plain": [
       "<Figure size 432x288 with 1 Axes>"
      ]
     },
     "metadata": {
      "needs_background": "light"
     },
     "output_type": "display_data"
    }
   ],
   "source": [
    "plt.plot(df['visitNumber'])"
   ]
  },
  {
   "cell_type": "code",
   "execution_count": 348,
   "metadata": {},
   "outputs": [
    {
     "data": {
      "text/plain": [
       "[<matplotlib.lines.Line2D at 0x22cb73e7790>]"
      ]
     },
     "execution_count": 348,
     "metadata": {},
     "output_type": "execute_result"
    },
    {
     "data": {
      "image/png": "[encoded data removed]",
      "text/plain": [
       "<Figure size 432x288 with 1 Axes>"
      ]
     },
     "metadata": {
      "needs_background": "light"
     },
     "output_type": "display_data"
    }
   ],
   "source": [
    "plt.plot(df['totals.hits'])"
   ]
  },
  {
   "cell_type": "code",
   "execution_count": 349,
   "metadata": {},
   "outputs": [
    {
     "data": {
      "text/plain": [
       "[<matplotlib.lines.Line2D at 0x22da3262850>]"
      ]
     },
     "execution_count": 349,
     "metadata": {},
     "output_type": "execute_result"
    },
    {
     "data": {
      "image/png": "[encoded data removed]",
      "text/plain": [
       "<Figure size 432x288 with 1 Axes>"
      ]
     },
     "metadata": {
      "needs_background": "light"
     },
     "output_type": "display_data"
    }
   ],
   "source": [
    "plt.plot(df['totals.pageviews'])"
   ]
  },
  {
   "cell_type": "code",
   "execution_count": 350,
   "metadata": {},
   "outputs": [
    {
     "data": {
      "text/plain": [
       "[<matplotlib.lines.Line2D at 0x22de7b79df0>]"
      ]
     },
     "execution_count": 350,
     "metadata": {},
     "output_type": "execute_result"
    },
    {
     "data": {
      "image/png": "[encoded data removed]",
      "text/plain": [
       "<Figure size 432x288 with 1 Axes>"
      ]
     },
     "metadata": {
      "needs_background": "light"
     },
     "output_type": "display_data"
    }
   ],
   "source": [
    "plt.plot(df['totals.transactionRevenue'])"
   ]
  },
  {
   "cell_type": "code",
   "execution_count": 351,
   "metadata": {},
   "outputs": [
    {
     "data": {
      "text/plain": [
       "[<matplotlib.lines.Line2D at 0x22cb73e6970>]"
      ]
     },
     "execution_count": 351,
     "metadata": {},
     "output_type": "execute_result"
    },
    {
     "data": {
      "image/png": "[encoded data removed]",
      "text/plain": [
       "<Figure size 432x288 with 1 Axes>"
      ]
     },
     "metadata": {
      "needs_background": "light"
     },
     "output_type": "display_data"
    }
   ],
   "source": [
    "plt.plot(df['date'])"
   ]
  },
  {
   "cell_type": "code",
   "execution_count": 352,
   "metadata": {},
   "outputs": [
    {
     "data": {
      "text/plain": [
       "Timestamp('2016-08-01 00:00:00')"
      ]
     },
     "execution_count": 352,
     "metadata": {},
     "output_type": "execute_result"
    }
   ],
   "source": [
    "min(df['date'])"
   ]
  },
  {
   "cell_type": "markdown",
   "metadata": {},
   "source": [
    "## Нормализация данных - log(x+1)\n",
    "### Для использования параметров в дальнейшем необходимо, чтобы они были одного знака\n",
    "#### В комментариях - другой способ нормализации, который пришлось убрать, чтобы корректно использовать эти параметры"
   ]
  },
  {
   "cell_type": "code",
   "execution_count": 354,
   "metadata": {},
   "outputs": [],
   "source": [
    "df['visitNumber'] = np.log(df['visitNumber']+1)\n",
    "#(df['visitNumber'] - df['visitNumber'].mean()) / df['visitNumber'].std()"
   ]
  },
  {
   "cell_type": "code",
   "execution_count": 355,
   "metadata": {},
   "outputs": [
    {
     "data": {
      "text/plain": [
       "0.6931471805599453"
      ]
     },
     "execution_count": 355,
     "metadata": {},
     "output_type": "execute_result"
    }
   ],
   "source": [
    "min(df['visitNumber'])"
   ]
  },
  {
   "cell_type": "code",
   "execution_count": 356,
   "metadata": {},
   "outputs": [],
   "source": [
    "#df['totals.hits'] = (df['totals.hits'] - df['totals.hits'].mean()) / df['totals.hits'].std()\n",
    "df['totals.hits'] =np.log(df['totals.hits']+1)"
   ]
  },
  {
   "cell_type": "code",
   "execution_count": 394,
   "metadata": {},
   "outputs": [
    {
     "data": {
      "text/plain": [
       "0.6931471805599453"
      ]
     },
     "execution_count": 394,
     "metadata": {},
     "output_type": "execute_result"
    }
   ],
   "source": [
    "min(df['totals.hits'])"
   ]
  },
  {
   "cell_type": "code",
   "execution_count": 357,
   "metadata": {},
   "outputs": [],
   "source": [
    "#df['totals.pageviews'] = (df['totals.pageviews'] - df['totals.pageviews'].mean()) / df['totals.pageviews'].std()\n",
    "df['totals.pageviews'] = np.log(df['totals.pageviews']+1)"
   ]
  },
  {
   "cell_type": "code",
   "execution_count": 358,
   "metadata": {},
   "outputs": [],
   "source": [
    "#tst = (df['geoNetwork.continent'] - df['geoNetwork.continent'].mean()) / df['geoNetwork.continent'].std()\n",
    "df['geoNetwork.continent'] = np.log(df['geoNetwork.continent']+1)"
   ]
  },
  {
   "cell_type": "code",
   "execution_count": 359,
   "metadata": {},
   "outputs": [
    {
     "data": {
      "text/html": [
       "<div>\n",
       "<style scoped>\n",
       "    .dataframe tbody tr th:only-of-type {\n",
       "        vertical-align: middle;\n",
       "    }\n",
       "\n",
       "    .dataframe tbody tr th {\n",
       "        vertical-align: top;\n",
       "    }\n",
       "\n",
       "    .dataframe thead th {\n",
       "        text-align: right;\n",
       "    }\n",
       "</style>\n",
       "<table border=\"1\" class=\"dataframe\">\n",
       "  <thead>\n",
       "    <tr style=\"text-align: right;\">\n",
       "      <th></th>\n",
       "      <th>channelGrouping</th>\n",
       "      <th>visitNumber</th>\n",
       "      <th>device.deviceCategory</th>\n",
       "      <th>geoNetwork.continent</th>\n",
       "      <th>totals.hits</th>\n",
       "      <th>totals.pageviews</th>\n",
       "      <th>totals.transactionRevenue</th>\n",
       "    </tr>\n",
       "  </thead>\n",
       "  <tbody>\n",
       "    <tr>\n",
       "      <th>count</th>\n",
       "      <td>90365.000000</td>\n",
       "      <td>90365.000000</td>\n",
       "      <td>90365.000000</td>\n",
       "      <td>90365.000000</td>\n",
       "      <td>90365.000000</td>\n",
       "      <td>90365.000000</td>\n",
       "      <td>9.036500e+04</td>\n",
       "    </tr>\n",
       "    <tr>\n",
       "      <th>mean</th>\n",
       "      <td>0.001699</td>\n",
       "      <td>0.885055</td>\n",
       "      <td>0.501809</td>\n",
       "      <td>0.001175</td>\n",
       "      <td>1.264117</td>\n",
       "      <td>1.214053</td>\n",
       "      <td>1.667584e+06</td>\n",
       "    </tr>\n",
       "    <tr>\n",
       "      <th>std</th>\n",
       "      <td>0.003316</td>\n",
       "      <td>0.486373</td>\n",
       "      <td>0.847908</td>\n",
       "      <td>0.002232</td>\n",
       "      <td>0.783981</td>\n",
       "      <td>0.711154</td>\n",
       "      <td>3.591135e+07</td>\n",
       "    </tr>\n",
       "    <tr>\n",
       "      <th>min</th>\n",
       "      <td>0.000000</td>\n",
       "      <td>0.693147</td>\n",
       "      <td>0.000000</td>\n",
       "      <td>0.000000</td>\n",
       "      <td>0.693147</td>\n",
       "      <td>0.693147</td>\n",
       "      <td>0.000000e+00</td>\n",
       "    </tr>\n",
       "    <tr>\n",
       "      <th>25%</th>\n",
       "      <td>0.000640</td>\n",
       "      <td>0.693147</td>\n",
       "      <td>0.000000</td>\n",
       "      <td>0.000570</td>\n",
       "      <td>0.693147</td>\n",
       "      <td>0.693147</td>\n",
       "      <td>0.000000e+00</td>\n",
       "    </tr>\n",
       "    <tr>\n",
       "      <th>50%</th>\n",
       "      <td>0.000885</td>\n",
       "      <td>0.693147</td>\n",
       "      <td>0.000000</td>\n",
       "      <td>0.000570</td>\n",
       "      <td>1.098612</td>\n",
       "      <td>0.693147</td>\n",
       "      <td>0.000000e+00</td>\n",
       "    </tr>\n",
       "    <tr>\n",
       "      <th>75%</th>\n",
       "      <td>0.001693</td>\n",
       "      <td>0.693147</td>\n",
       "      <td>1.000000</td>\n",
       "      <td>0.000975</td>\n",
       "      <td>1.609438</td>\n",
       "      <td>1.609438</td>\n",
       "      <td>0.000000e+00</td>\n",
       "    </tr>\n",
       "    <tr>\n",
       "      <th>max</th>\n",
       "      <td>0.035651</td>\n",
       "      <td>5.963579</td>\n",
       "      <td>2.000000</td>\n",
       "      <td>0.014190</td>\n",
       "      <td>5.958425</td>\n",
       "      <td>5.840642</td>\n",
       "      <td>5.601400e+09</td>\n",
       "    </tr>\n",
       "  </tbody>\n",
       "</table>\n",
       "</div>"
      ],
      "text/plain": [
       "       channelGrouping   visitNumber  device.deviceCategory  \\\n",
       "count     90365.000000  90365.000000           90365.000000   \n",
       "mean          0.001699      0.885055               0.501809   \n",
       "std           0.003316      0.486373               0.847908   \n",
       "min           0.000000      0.693147               0.000000   \n",
       "25%           0.000640      0.693147               0.000000   \n",
       "50%           0.000885      0.693147               0.000000   \n",
       "75%           0.001693      0.693147               1.000000   \n",
       "max           0.035651      5.963579               2.000000   \n",
       "\n",
       "       geoNetwork.continent   totals.hits  totals.pageviews  \\\n",
       "count          90365.000000  90365.000000      90365.000000   \n",
       "mean               0.001175      1.264117          1.214053   \n",
       "std                0.002232      0.783981          0.711154   \n",
       "min                0.000000      0.693147          0.693147   \n",
       "25%                0.000570      0.693147          0.693147   \n",
       "50%                0.000570      1.098612          0.693147   \n",
       "75%                0.000975      1.609438          1.609438   \n",
       "max                0.014190      5.958425          5.840642   \n",
       "\n",
       "       totals.transactionRevenue  \n",
       "count               9.036500e+04  \n",
       "mean                1.667584e+06  \n",
       "std                 3.591135e+07  \n",
       "min                 0.000000e+00  \n",
       "25%                 0.000000e+00  \n",
       "50%                 0.000000e+00  \n",
       "75%                 0.000000e+00  \n",
       "max                 5.601400e+09  "
      ]
     },
     "execution_count": 359,
     "metadata": {},
     "output_type": "execute_result"
    }
   ],
   "source": [
    "df.describe()"
   ]
  },
  {
   "cell_type": "markdown",
   "metadata": {},
   "source": [
    "## Группировка по посетителям"
   ]
  },
  {
   "cell_type": "code",
   "execution_count": 360,
   "metadata": {},
   "outputs": [],
   "source": [
    "df_clients = df.groupby(df['fullVisitorId'])"
   ]
  },
  {
   "cell_type": "code",
   "execution_count": 361,
   "metadata": {},
   "outputs": [
    {
     "data": {
      "text/html": [
       "<div>\n",
       "<style scoped>\n",
       "    .dataframe tbody tr th:only-of-type {\n",
       "        vertical-align: middle;\n",
       "    }\n",
       "\n",
       "    .dataframe tbody tr th {\n",
       "        vertical-align: top;\n",
       "    }\n",
       "\n",
       "    .dataframe thead th {\n",
       "        text-align: right;\n",
       "    }\n",
       "</style>\n",
       "<table border=\"1\" class=\"dataframe\">\n",
       "  <thead>\n",
       "    <tr style=\"text-align: right;\">\n",
       "      <th></th>\n",
       "      <th>channelGrouping</th>\n",
       "      <th>date</th>\n",
       "      <th>visitNumber</th>\n",
       "      <th>device.deviceCategory</th>\n",
       "      <th>geoNetwork.continent</th>\n",
       "      <th>totals.hits</th>\n",
       "      <th>totals.pageviews</th>\n",
       "      <th>totals.bounces</th>\n",
       "      <th>totals.newVisits</th>\n",
       "      <th>totals.transactionRevenue</th>\n",
       "      <th>...</th>\n",
       "      <th>browser.Firefox</th>\n",
       "      <th>browser.IE</th>\n",
       "      <th>browser.Edge</th>\n",
       "      <th>browser.Other</th>\n",
       "      <th>OS.Windows</th>\n",
       "      <th>OS.Mac</th>\n",
       "      <th>OS.Android</th>\n",
       "      <th>OS.IOS</th>\n",
       "      <th>OS.Linux</th>\n",
       "      <th>OS.Other</th>\n",
       "    </tr>\n",
       "    <tr>\n",
       "      <th>fullVisitorId</th>\n",
       "      <th></th>\n",
       "      <th></th>\n",
       "      <th></th>\n",
       "      <th></th>\n",
       "      <th></th>\n",
       "      <th></th>\n",
       "      <th></th>\n",
       "      <th></th>\n",
       "      <th></th>\n",
       "      <th></th>\n",
       "      <th></th>\n",
       "      <th></th>\n",
       "      <th></th>\n",
       "      <th></th>\n",
       "      <th></th>\n",
       "      <th></th>\n",
       "      <th></th>\n",
       "      <th></th>\n",
       "      <th></th>\n",
       "      <th></th>\n",
       "      <th></th>\n",
       "    </tr>\n",
       "  </thead>\n",
       "  <tbody>\n",
       "    <tr>\n",
       "      <th>0000010278554503158</th>\n",
       "      <td>0.000640</td>\n",
       "      <td>2016-10-20</td>\n",
       "      <td>0.693147</td>\n",
       "      <td>0</td>\n",
       "      <td>0.011865</td>\n",
       "      <td>2.484907</td>\n",
       "      <td>2.197225</td>\n",
       "      <td>False</td>\n",
       "      <td>True</td>\n",
       "      <td>0.0</td>\n",
       "      <td>...</td>\n",
       "      <td>False</td>\n",
       "      <td>False</td>\n",
       "      <td>False</td>\n",
       "      <td>False</td>\n",
       "      <td>False</td>\n",
       "      <td>True</td>\n",
       "      <td>False</td>\n",
       "      <td>False</td>\n",
       "      <td>False</td>\n",
       "      <td>False</td>\n",
       "    </tr>\n",
       "    <tr>\n",
       "      <th>0000174067426171406</th>\n",
       "      <td>0.000640</td>\n",
       "      <td>2016-11-11</td>\n",
       "      <td>1.098612</td>\n",
       "      <td>2</td>\n",
       "      <td>0.000570</td>\n",
       "      <td>2.079442</td>\n",
       "      <td>1.791759</td>\n",
       "      <td>False</td>\n",
       "      <td>False</td>\n",
       "      <td>0.0</td>\n",
       "      <td>...</td>\n",
       "      <td>False</td>\n",
       "      <td>False</td>\n",
       "      <td>False</td>\n",
       "      <td>False</td>\n",
       "      <td>False</td>\n",
       "      <td>False</td>\n",
       "      <td>False</td>\n",
       "      <td>True</td>\n",
       "      <td>False</td>\n",
       "      <td>False</td>\n",
       "    </tr>\n",
       "    <tr>\n",
       "      <th>0000436683523507380</th>\n",
       "      <td>0.002386</td>\n",
       "      <td>2017-07-25</td>\n",
       "      <td>1.098612</td>\n",
       "      <td>0</td>\n",
       "      <td>0.000570</td>\n",
       "      <td>2.197225</td>\n",
       "      <td>2.197225</td>\n",
       "      <td>False</td>\n",
       "      <td>False</td>\n",
       "      <td>0.0</td>\n",
       "      <td>...</td>\n",
       "      <td>False</td>\n",
       "      <td>False</td>\n",
       "      <td>False</td>\n",
       "      <td>False</td>\n",
       "      <td>False</td>\n",
       "      <td>True</td>\n",
       "      <td>False</td>\n",
       "      <td>False</td>\n",
       "      <td>False</td>\n",
       "      <td>False</td>\n",
       "    </tr>\n",
       "    <tr>\n",
       "      <th>0000568867259253661</th>\n",
       "      <td>0.000640</td>\n",
       "      <td>2016-10-18</td>\n",
       "      <td>0.693147</td>\n",
       "      <td>0</td>\n",
       "      <td>0.000570</td>\n",
       "      <td>1.609438</td>\n",
       "      <td>1.609438</td>\n",
       "      <td>False</td>\n",
       "      <td>True</td>\n",
       "      <td>0.0</td>\n",
       "      <td>...</td>\n",
       "      <td>False</td>\n",
       "      <td>False</td>\n",
       "      <td>False</td>\n",
       "      <td>False</td>\n",
       "      <td>False</td>\n",
       "      <td>True</td>\n",
       "      <td>False</td>\n",
       "      <td>False</td>\n",
       "      <td>False</td>\n",
       "      <td>False</td>\n",
       "    </tr>\n",
       "    <tr>\n",
       "      <th>0000639845445148063</th>\n",
       "      <td>0.001693</td>\n",
       "      <td>2016-09-12</td>\n",
       "      <td>0.693147</td>\n",
       "      <td>0</td>\n",
       "      <td>0.000570</td>\n",
       "      <td>2.197225</td>\n",
       "      <td>2.079442</td>\n",
       "      <td>False</td>\n",
       "      <td>True</td>\n",
       "      <td>0.0</td>\n",
       "      <td>...</td>\n",
       "      <td>False</td>\n",
       "      <td>False</td>\n",
       "      <td>False</td>\n",
       "      <td>False</td>\n",
       "      <td>False</td>\n",
       "      <td>True</td>\n",
       "      <td>False</td>\n",
       "      <td>False</td>\n",
       "      <td>False</td>\n",
       "      <td>False</td>\n",
       "    </tr>\n",
       "    <tr>\n",
       "      <th>...</th>\n",
       "      <td>...</td>\n",
       "      <td>...</td>\n",
       "      <td>...</td>\n",
       "      <td>...</td>\n",
       "      <td>...</td>\n",
       "      <td>...</td>\n",
       "      <td>...</td>\n",
       "      <td>...</td>\n",
       "      <td>...</td>\n",
       "      <td>...</td>\n",
       "      <td>...</td>\n",
       "      <td>...</td>\n",
       "      <td>...</td>\n",
       "      <td>...</td>\n",
       "      <td>...</td>\n",
       "      <td>...</td>\n",
       "      <td>...</td>\n",
       "      <td>...</td>\n",
       "      <td>...</td>\n",
       "      <td>...</td>\n",
       "      <td>...</td>\n",
       "    </tr>\n",
       "    <tr>\n",
       "      <th>9999636803769846518</th>\n",
       "      <td>0.002386</td>\n",
       "      <td>2017-03-29</td>\n",
       "      <td>0.693147</td>\n",
       "      <td>0</td>\n",
       "      <td>0.000962</td>\n",
       "      <td>0.693147</td>\n",
       "      <td>0.693147</td>\n",
       "      <td>True</td>\n",
       "      <td>True</td>\n",
       "      <td>0.0</td>\n",
       "      <td>...</td>\n",
       "      <td>False</td>\n",
       "      <td>False</td>\n",
       "      <td>False</td>\n",
       "      <td>False</td>\n",
       "      <td>True</td>\n",
       "      <td>False</td>\n",
       "      <td>False</td>\n",
       "      <td>False</td>\n",
       "      <td>False</td>\n",
       "      <td>False</td>\n",
       "    </tr>\n",
       "    <tr>\n",
       "      <th>9999773079368714197</th>\n",
       "      <td>0.000640</td>\n",
       "      <td>2017-06-11</td>\n",
       "      <td>0.693147</td>\n",
       "      <td>2</td>\n",
       "      <td>0.000570</td>\n",
       "      <td>0.693147</td>\n",
       "      <td>0.693147</td>\n",
       "      <td>True</td>\n",
       "      <td>True</td>\n",
       "      <td>0.0</td>\n",
       "      <td>...</td>\n",
       "      <td>False</td>\n",
       "      <td>False</td>\n",
       "      <td>False</td>\n",
       "      <td>False</td>\n",
       "      <td>False</td>\n",
       "      <td>False</td>\n",
       "      <td>False</td>\n",
       "      <td>True</td>\n",
       "      <td>False</td>\n",
       "      <td>False</td>\n",
       "    </tr>\n",
       "    <tr>\n",
       "      <th>9999887420016307570</th>\n",
       "      <td>0.000640</td>\n",
       "      <td>2016-11-25</td>\n",
       "      <td>0.693147</td>\n",
       "      <td>0</td>\n",
       "      <td>0.000570</td>\n",
       "      <td>2.079442</td>\n",
       "      <td>1.609438</td>\n",
       "      <td>False</td>\n",
       "      <td>True</td>\n",
       "      <td>0.0</td>\n",
       "      <td>...</td>\n",
       "      <td>False</td>\n",
       "      <td>False</td>\n",
       "      <td>False</td>\n",
       "      <td>False</td>\n",
       "      <td>True</td>\n",
       "      <td>False</td>\n",
       "      <td>False</td>\n",
       "      <td>False</td>\n",
       "      <td>False</td>\n",
       "      <td>False</td>\n",
       "    </tr>\n",
       "    <tr>\n",
       "      <th>9999963186378918199</th>\n",
       "      <td>0.000640</td>\n",
       "      <td>2017-03-13</td>\n",
       "      <td>0.693147</td>\n",
       "      <td>0</td>\n",
       "      <td>0.000975</td>\n",
       "      <td>0.693147</td>\n",
       "      <td>0.693147</td>\n",
       "      <td>True</td>\n",
       "      <td>True</td>\n",
       "      <td>0.0</td>\n",
       "      <td>...</td>\n",
       "      <td>False</td>\n",
       "      <td>False</td>\n",
       "      <td>False</td>\n",
       "      <td>False</td>\n",
       "      <td>True</td>\n",
       "      <td>False</td>\n",
       "      <td>False</td>\n",
       "      <td>False</td>\n",
       "      <td>False</td>\n",
       "      <td>False</td>\n",
       "    </tr>\n",
       "    <tr>\n",
       "      <th>999997550040396460</th>\n",
       "      <td>0.000640</td>\n",
       "      <td>2017-04-08</td>\n",
       "      <td>0.693147</td>\n",
       "      <td>0</td>\n",
       "      <td>0.000570</td>\n",
       "      <td>0.693147</td>\n",
       "      <td>0.693147</td>\n",
       "      <td>True</td>\n",
       "      <td>True</td>\n",
       "      <td>0.0</td>\n",
       "      <td>...</td>\n",
       "      <td>False</td>\n",
       "      <td>False</td>\n",
       "      <td>False</td>\n",
       "      <td>False</td>\n",
       "      <td>True</td>\n",
       "      <td>False</td>\n",
       "      <td>False</td>\n",
       "      <td>False</td>\n",
       "      <td>False</td>\n",
       "      <td>False</td>\n",
       "    </tr>\n",
       "  </tbody>\n",
       "</table>\n",
       "<p>85825 rows × 23 columns</p>\n",
       "</div>"
      ],
      "text/plain": [
       "                     channelGrouping       date  visitNumber  \\\n",
       "fullVisitorId                                                  \n",
       "0000010278554503158         0.000640 2016-10-20     0.693147   \n",
       "0000174067426171406         0.000640 2016-11-11     1.098612   \n",
       "0000436683523507380         0.002386 2017-07-25     1.098612   \n",
       "0000568867259253661         0.000640 2016-10-18     0.693147   \n",
       "0000639845445148063         0.001693 2016-09-12     0.693147   \n",
       "...                              ...        ...          ...   \n",
       "9999636803769846518         0.002386 2017-03-29     0.693147   \n",
       "9999773079368714197         0.000640 2017-06-11     0.693147   \n",
       "9999887420016307570         0.000640 2016-11-25     0.693147   \n",
       "9999963186378918199         0.000640 2017-03-13     0.693147   \n",
       "999997550040396460          0.000640 2017-04-08     0.693147   \n",
       "\n",
       "                     device.deviceCategory  geoNetwork.continent  totals.hits  \\\n",
       "fullVisitorId                                                                   \n",
       "0000010278554503158                      0              0.011865     2.484907   \n",
       "0000174067426171406                      2              0.000570     2.079442   \n",
       "0000436683523507380                      0              0.000570     2.197225   \n",
       "0000568867259253661                      0              0.000570     1.609438   \n",
       "0000639845445148063                      0              0.000570     2.197225   \n",
       "...                                    ...                   ...          ...   \n",
       "9999636803769846518                      0              0.000962     0.693147   \n",
       "9999773079368714197                      2              0.000570     0.693147   \n",
       "9999887420016307570                      0              0.000570     2.079442   \n",
       "9999963186378918199                      0              0.000975     0.693147   \n",
       "999997550040396460                       0              0.000570     0.693147   \n",
       "\n",
       "                     totals.pageviews  totals.bounces  totals.newVisits  \\\n",
       "fullVisitorId                                                             \n",
       "0000010278554503158          2.197225           False              True   \n",
       "0000174067426171406          1.791759           False             False   \n",
       "0000436683523507380          2.197225           False             False   \n",
       "0000568867259253661          1.609438           False              True   \n",
       "0000639845445148063          2.079442           False              True   \n",
       "...                               ...             ...               ...   \n",
       "9999636803769846518          0.693147            True              True   \n",
       "9999773079368714197          0.693147            True              True   \n",
       "9999887420016307570          1.609438           False              True   \n",
       "9999963186378918199          0.693147            True              True   \n",
       "999997550040396460           0.693147            True              True   \n",
       "\n",
       "                     totals.transactionRevenue  ...  browser.Firefox  \\\n",
       "fullVisitorId                                   ...                    \n",
       "0000010278554503158                        0.0  ...            False   \n",
       "0000174067426171406                        0.0  ...            False   \n",
       "0000436683523507380                        0.0  ...            False   \n",
       "0000568867259253661                        0.0  ...            False   \n",
       "0000639845445148063                        0.0  ...            False   \n",
       "...                                        ...  ...              ...   \n",
       "9999636803769846518                        0.0  ...            False   \n",
       "9999773079368714197                        0.0  ...            False   \n",
       "9999887420016307570                        0.0  ...            False   \n",
       "9999963186378918199                        0.0  ...            False   \n",
       "999997550040396460                         0.0  ...            False   \n",
       "\n",
       "                     browser.IE  browser.Edge  browser.Other  OS.Windows  \\\n",
       "fullVisitorId                                                              \n",
       "0000010278554503158       False         False          False       False   \n",
       "0000174067426171406       False         False          False       False   \n",
       "0000436683523507380       False         False          False       False   \n",
       "0000568867259253661       False         False          False       False   \n",
       "0000639845445148063       False         False          False       False   \n",
       "...                         ...           ...            ...         ...   \n",
       "9999636803769846518       False         False          False        True   \n",
       "9999773079368714197       False         False          False       False   \n",
       "9999887420016307570       False         False          False        True   \n",
       "9999963186378918199       False         False          False        True   \n",
       "999997550040396460        False         False          False        True   \n",
       "\n",
       "                     OS.Mac  OS.Android  OS.IOS  OS.Linux  OS.Other  \n",
       "fullVisitorId                                                        \n",
       "0000010278554503158    True       False   False     False     False  \n",
       "0000174067426171406   False       False    True     False     False  \n",
       "0000436683523507380    True       False   False     False     False  \n",
       "0000568867259253661    True       False   False     False     False  \n",
       "0000639845445148063    True       False   False     False     False  \n",
       "...                     ...         ...     ...       ...       ...  \n",
       "9999636803769846518   False       False   False     False     False  \n",
       "9999773079368714197   False       False    True     False     False  \n",
       "9999887420016307570   False       False   False     False     False  \n",
       "9999963186378918199   False       False   False     False     False  \n",
       "999997550040396460    False       False   False     False     False  \n",
       "\n",
       "[85825 rows x 23 columns]"
      ]
     },
     "execution_count": 361,
     "metadata": {},
     "output_type": "execute_result"
    }
   ],
   "source": [
    "df_clients.first()"
   ]
  },
  {
   "cell_type": "markdown",
   "metadata": {},
   "source": [
    "## Определение параметров для обучения"
   ]
  },
  {
   "cell_type": "markdown",
   "metadata": {},
   "source": [
    "### hits max - максимальное количество обращений (присутствует явно)"
   ]
  },
  {
   "cell_type": "code",
   "execution_count": 362,
   "metadata": {},
   "outputs": [],
   "source": [
    "hits_max = df_clients.apply(\n",
    "    lambda x: max(x['totals.hits']))"
   ]
  },
  {
   "cell_type": "code",
   "execution_count": 363,
   "metadata": {},
   "outputs": [
    {
     "data": {
      "text/plain": [
       "1.267646385461517"
      ]
     },
     "execution_count": 363,
     "metadata": {},
     "output_type": "execute_result"
    }
   ],
   "source": [
    "statistics.mean(hits_max)"
   ]
  },
  {
   "cell_type": "markdown",
   "metadata": {},
   "source": [
    "### bounce_existence (присутствует явно) - существование отказов - наличие хотя бы одного отказа"
   ]
  },
  {
   "cell_type": "code",
   "execution_count": 364,
   "metadata": {},
   "outputs": [],
   "source": [
    "bounce_existence = df_clients.apply(\n",
    "    lambda x: max(x['totals.bounces']))"
   ]
  },
  {
   "cell_type": "code",
   "execution_count": 365,
   "metadata": {},
   "outputs": [
    {
     "data": {
      "text/plain": [
       "0.5131371977861928"
      ]
     },
     "execution_count": 365,
     "metadata": {},
     "output_type": "execute_result"
    }
   ],
   "source": [
    "statistics.mean(bounce_existence)"
   ]
  },
  {
   "cell_type": "markdown",
   "metadata": {},
   "source": [
    "### pageViews_max (присутствует явно) - максимальное количество просмотров страниц"
   ]
  },
  {
   "cell_type": "code",
   "execution_count": 366,
   "metadata": {},
   "outputs": [],
   "source": [
    "pageViews_max = df_clients.apply(\n",
    "    lambda x: max(x['totals.pageviews']))"
   ]
  },
  {
   "cell_type": "code",
   "execution_count": 367,
   "metadata": {},
   "outputs": [
    {
     "data": {
      "text/plain": [
       "fullVisitorId\n",
       "0000010278554503158    2.197225\n",
       "0000174067426171406    1.791759\n",
       "0000436683523507380    2.197225\n",
       "0000568867259253661    1.609438\n",
       "0000639845445148063    2.079442\n",
       "                         ...   \n",
       "9999636803769846518    0.693147\n",
       "9999773079368714197    0.693147\n",
       "9999887420016307570    1.609438\n",
       "9999963186378918199    0.693147\n",
       "999997550040396460     0.693147\n",
       "Length: 85825, dtype: float64"
      ]
     },
     "execution_count": 367,
     "metadata": {},
     "output_type": "execute_result"
    }
   ],
   "source": [
    "pageViews_max"
   ]
  },
  {
   "cell_type": "markdown",
   "metadata": {},
   "source": [
    "### device_mode (присутствует явно) - категория устройства"
   ]
  },
  {
   "cell_type": "code",
   "execution_count": 368,
   "metadata": {},
   "outputs": [],
   "source": [
    "#max(set(lst), key=lst.count)\n",
    "device_mode = df_clients.apply(\n",
    "    lambda x: statistics.mode(x['device.deviceCategory']))"
   ]
  },
  {
   "cell_type": "code",
   "execution_count": 369,
   "metadata": {},
   "outputs": [
    {
     "data": {
      "text/plain": [
       "fullVisitorId\n",
       "0000010278554503158    0\n",
       "0000174067426171406    2\n",
       "0000436683523507380    0\n",
       "0000568867259253661    0\n",
       "0000639845445148063    0\n",
       "                      ..\n",
       "9999636803769846518    0\n",
       "9999773079368714197    2\n",
       "9999887420016307570    0\n",
       "9999963186378918199    0\n",
       "999997550040396460     0\n",
       "Length: 85825, dtype: int64"
      ]
     },
     "execution_count": 369,
     "metadata": {},
     "output_type": "execute_result"
    }
   ],
   "source": [
    "device_mode"
   ]
  },
  {
   "cell_type": "markdown",
   "metadata": {},
   "source": [
    "### newVisits_min (присутствует явно) - первый раз ли посещает"
   ]
  },
  {
   "cell_type": "code",
   "execution_count": 370,
   "metadata": {},
   "outputs": [],
   "source": [
    "newVisits_min = df_clients.apply(\n",
    "    lambda x: min(x['totals.newVisits']))"
   ]
  },
  {
   "cell_type": "code",
   "execution_count": 371,
   "metadata": {},
   "outputs": [
    {
     "data": {
      "text/plain": [
       "fullVisitorId\n",
       "0000010278554503158     True\n",
       "0000174067426171406    False\n",
       "0000436683523507380    False\n",
       "0000568867259253661     True\n",
       "0000639845445148063     True\n",
       "                       ...  \n",
       "9999636803769846518     True\n",
       "9999773079368714197     True\n",
       "9999887420016307570     True\n",
       "9999963186378918199     True\n",
       "999997550040396460      True\n",
       "Length: 85825, dtype: bool"
      ]
     },
     "execution_count": 371,
     "metadata": {},
     "output_type": "execute_result"
    }
   ],
   "source": [
    "newVisits_min"
   ]
  },
  {
   "cell_type": "markdown",
   "metadata": {},
   "source": [
    "### visitNumber_max (присутствует явно) - номер посещения"
   ]
  },
  {
   "cell_type": "code",
   "execution_count": 372,
   "metadata": {},
   "outputs": [],
   "source": [
    "visitNumber_max = df_clients.apply(\n",
    "    lambda x: max(x['visitNumber']))"
   ]
  },
  {
   "cell_type": "code",
   "execution_count": 373,
   "metadata": {},
   "outputs": [
    {
     "data": {
      "text/plain": [
       "0.8431475829381782"
      ]
     },
     "execution_count": 373,
     "metadata": {},
     "output_type": "execute_result"
    }
   ],
   "source": [
    "statistics.mean(visitNumber_max)"
   ]
  },
  {
   "cell_type": "markdown",
   "metadata": {},
   "source": [
    "### channelGrouping_median (Неявное - преобразование было раньше) - классификация трафика - группа канала, представляющая долю вхождения транзакций в этом регионе на каждую из групп"
   ]
  },
  {
   "cell_type": "code",
   "execution_count": 374,
   "metadata": {},
   "outputs": [],
   "source": [
    "channelGrouping_median = df_clients.apply(\n",
    "    lambda x: statistics.median(x['channelGrouping']))"
   ]
  },
  {
   "cell_type": "code",
   "execution_count": 375,
   "metadata": {},
   "outputs": [
    {
     "data": {
      "text/plain": [
       "fullVisitorId\n",
       "0000010278554503158    0.000640\n",
       "0000174067426171406    0.000640\n",
       "0000436683523507380    0.002386\n",
       "0000568867259253661    0.000640\n",
       "0000639845445148063    0.001693\n",
       "                         ...   \n",
       "9999636803769846518    0.002386\n",
       "9999773079368714197    0.000640\n",
       "9999887420016307570    0.000640\n",
       "9999963186378918199    0.000640\n",
       "999997550040396460     0.000640\n",
       "Length: 85825, dtype: float64"
      ]
     },
     "execution_count": 375,
     "metadata": {},
     "output_type": "execute_result"
    }
   ],
   "source": [
    "channelGrouping_median"
   ]
  },
  {
   "cell_type": "code",
   "execution_count": 376,
   "metadata": {},
   "outputs": [
    {
     "name": "stdout",
     "output_type": "stream",
     "text": [
      "<class 'pandas.core.frame.DataFrame'>\n",
      "RangeIndex: 90365 entries, 0 to 90364\n",
      "Data columns (total 24 columns):\n",
      " #   Column                                        Non-Null Count  Dtype         \n",
      "---  ------                                        --------------  -----         \n",
      " 0   channelGrouping                               90365 non-null  float64       \n",
      " 1   date                                          90365 non-null  datetime64[ns]\n",
      " 2   fullVisitorId                                 90365 non-null  object        \n",
      " 3   visitNumber                                   90365 non-null  float64       \n",
      " 4   device.deviceCategory                         90365 non-null  int64         \n",
      " 5   geoNetwork.continent                          90365 non-null  float64       \n",
      " 6   totals.hits                                   90365 non-null  float64       \n",
      " 7   totals.pageviews                              90365 non-null  float64       \n",
      " 8   totals.bounces                                90365 non-null  bool          \n",
      " 9   totals.newVisits                              90365 non-null  bool          \n",
      " 10  totals.transactionRevenue                     90365 non-null  float64       \n",
      " 11  trafficSource.adwordsClickInfo.adNetworkType  90365 non-null  bool          \n",
      " 12  browser.Chrome                                90365 non-null  bool          \n",
      " 13  browser.Safari                                90365 non-null  bool          \n",
      " 14  browser.Firefox                               90365 non-null  bool          \n",
      " 15  browser.IE                                    90365 non-null  bool          \n",
      " 16  browser.Edge                                  90365 non-null  bool          \n",
      " 17  browser.Other                                 90365 non-null  bool          \n",
      " 18  OS.Windows                                    90365 non-null  bool          \n",
      " 19  OS.Mac                                        90365 non-null  bool          \n",
      " 20  OS.Android                                    90365 non-null  bool          \n",
      " 21  OS.IOS                                        90365 non-null  bool          \n",
      " 22  OS.Linux                                      90365 non-null  bool          \n",
      " 23  OS.Other                                      90365 non-null  bool          \n",
      "dtypes: bool(15), datetime64[ns](1), float64(6), int64(1), object(1)\n",
      "memory usage: 7.5+ MB\n"
     ]
    }
   ],
   "source": [
    "df.info()"
   ]
  },
  {
   "cell_type": "markdown",
   "metadata": {},
   "source": [
    "### operationSystemsMean (sum / count) [Неявное] - использованные операционки пользователем\n",
    "### Предполагается, что если пользователь заходит с разных операционок, то интерес к магазину выше, а, значит, вероятность транзакций больше"
   ]
  },
  {
   "cell_type": "code",
   "execution_count": 377,
   "metadata": {},
   "outputs": [],
   "source": [
    "operationSystems_mean = df_clients.apply(\n",
    "    lambda x: ((max(x['OS.Windows']))+(max(x['OS.Mac']))+(max(x['OS.IOS']))+(max(x['OS.Linux']))+\n",
    "        (max(x['OS.Android'])) + (max(x['OS.Other']))) / 6)"
   ]
  },
  {
   "cell_type": "code",
   "execution_count": 378,
   "metadata": {},
   "outputs": [
    {
     "data": {
      "text/plain": [
       "0.3333333333333333"
      ]
     },
     "execution_count": 378,
     "metadata": {},
     "output_type": "execute_result"
    }
   ],
   "source": [
    "max(operationSystems_mean)#statistics."
   ]
  },
  {
   "cell_type": "code",
   "execution_count": 379,
   "metadata": {},
   "outputs": [
    {
     "name": "stdout",
     "output_type": "stream",
     "text": [
      "6\n"
     ]
    }
   ],
   "source": [
    "count = 0\n",
    "for i in range(len(operationSystems_mean)):\n",
    "    if operationSystems_mean[i] > 0.17:\n",
    "        count += 1\n",
    "print(count)"
   ]
  },
  {
   "cell_type": "code",
   "execution_count": 380,
   "metadata": {},
   "outputs": [
    {
     "data": {
      "text/plain": [
       "0.16666666666666666"
      ]
     },
     "execution_count": 380,
     "metadata": {},
     "output_type": "execute_result"
    }
   ],
   "source": [
    "min(operationSystems_mean)"
   ]
  },
  {
   "cell_type": "markdown",
   "metadata": {},
   "source": [
    "### continents (Неявное - преобразование было раньше) - вероятность региона в осуществлении транзакции"
   ]
  },
  {
   "cell_type": "code",
   "execution_count": 381,
   "metadata": {},
   "outputs": [],
   "source": [
    "continents = df_clients.apply(\n",
    "    lambda x: statistics.median(x['geoNetwork.continent']))"
   ]
  },
  {
   "cell_type": "code",
   "execution_count": 382,
   "metadata": {},
   "outputs": [
    {
     "data": {
      "text/plain": [
       "fullVisitorId\n",
       "0000010278554503158    0.011865\n",
       "0000174067426171406    0.000570\n",
       "0000436683523507380    0.000570\n",
       "0000568867259253661    0.000570\n",
       "0000639845445148063    0.000570\n",
       "                         ...   \n",
       "9999636803769846518    0.000962\n",
       "9999773079368714197    0.000570\n",
       "9999887420016307570    0.000570\n",
       "9999963186378918199    0.000975\n",
       "999997550040396460     0.000570\n",
       "Length: 85825, dtype: float64"
      ]
     },
     "execution_count": 382,
     "metadata": {},
     "output_type": "execute_result"
    }
   ],
   "source": [
    "continents"
   ]
  },
  {
   "cell_type": "markdown",
   "metadata": {},
   "source": [
    "### hitsPerPage (Неявное) - среднее количество обращений за страницу"
   ]
  },
  {
   "cell_type": "code",
   "execution_count": 383,
   "metadata": {},
   "outputs": [],
   "source": [
    "hitsPerPage = df_clients.apply(\n",
    "    lambda x: sum(x['totals.hits']) / sum(x['totals.pageviews']))"
   ]
  },
  {
   "cell_type": "code",
   "execution_count": 384,
   "metadata": {},
   "outputs": [
    {
     "data": {
      "text/plain": [
       "1.0"
      ]
     },
     "execution_count": 384,
     "metadata": {},
     "output_type": "execute_result"
    }
   ],
   "source": [
    "min(hitsPerPage)"
   ]
  },
  {
   "cell_type": "markdown",
   "metadata": {},
   "source": [
    "### Client Log(Frequency) (отсутствует явно) - частота посещения в месяц"
   ]
  },
  {
   "cell_type": "code",
   "execution_count": 385,
   "metadata": {},
   "outputs": [],
   "source": [
    "frequency = df_clients.apply(\n",
    "    lambda x: math.log(len(x[\"date\"]) / ((max(x['date']) - min(x[\"date\"])) / np.timedelta64(1, 'M'))+1) if (\n",
    "            ((max(x['date']) - min(x[\"date\"]))/np.timedelta64(1, 'M') > 0)) else 0)"
   ]
  },
  {
   "cell_type": "code",
   "execution_count": 387,
   "metadata": {},
   "outputs": [
    {
     "data": {
      "text/plain": [
       "4.81012939986845"
      ]
     },
     "execution_count": 387,
     "metadata": {},
     "output_type": "execute_result"
    }
   ],
   "source": [
    "max(frequency)"
   ]
  },
  {
   "cell_type": "markdown",
   "metadata": {},
   "source": [
    "### Hits per month (Неявное) - количество обращений в месяц"
   ]
  },
  {
   "cell_type": "code",
   "execution_count": 388,
   "metadata": {},
   "outputs": [],
   "source": [
    "hitsPerMonth = df_clients.apply(\n",
    "    lambda x: math.log(sum(x['totals.hits']) / ((max(x['date']) - min(x[\"date\"])) / np.timedelta64(1, 'M'))+1) if (\n",
    "            ((max(x['date']) - min(x[\"date\"]))/np.timedelta64(1, 'M') > 0)) else 0)"
   ]
  },
  {
   "cell_type": "markdown",
   "metadata": {},
   "source": [
    "### weekdayMode (Неявное) - наиболее встречающийся день недели для пользователя, в который он заходил в магазин"
   ]
  },
  {
   "cell_type": "code",
   "execution_count": 389,
   "metadata": {},
   "outputs": [],
   "source": [
    "weekdayMode = df_clients.apply(\n",
    "    lambda x: statistics.mode(x['date'].dt.dayofweek))"
   ]
  },
  {
   "cell_type": "code",
   "execution_count": 390,
   "metadata": {},
   "outputs": [
    {
     "data": {
      "text/plain": [
       "fullVisitorId\n",
       "0000010278554503158    3\n",
       "0000174067426171406    4\n",
       "0000436683523507380    1\n",
       "0000568867259253661    1\n",
       "0000639845445148063    0\n",
       "                      ..\n",
       "9999636803769846518    2\n",
       "9999773079368714197    6\n",
       "9999887420016307570    4\n",
       "9999963186378918199    0\n",
       "999997550040396460     5\n",
       "Length: 85825, dtype: int64"
      ]
     },
     "execution_count": 390,
     "metadata": {},
     "output_type": "execute_result"
    }
   ],
   "source": [
    "weekdayMode"
   ]
  },
  {
   "cell_type": "markdown",
   "metadata": {},
   "source": [
    "### Y - log(sum(transaction))"
   ]
  },
  {
   "cell_type": "code",
   "execution_count": 391,
   "metadata": {},
   "outputs": [],
   "source": [
    "df_Y = df_clients.apply(\n",
    "    lambda x: math.log(sum(x['totals.transactionRevenue'])+1))"
   ]
  },
  {
   "cell_type": "code",
   "execution_count": 392,
   "metadata": {},
   "outputs": [],
   "source": [
    "try_dataframe = pd.DataFrame(\n",
    "    data={'Y': df_Y, 'HitsMax': hits_max, 'BounceExistence': bounce_existence, \n",
    "          'PageViewsMax': pageViews_max, 'DeviceMode': device_mode, 'NewVisitsMin': newVisits_min,\n",
    "         'VisitNumberMax': visitNumber_max, 'ChannelGroupingMedian': channelGrouping_median,\n",
    "         'OS_mean': operationSystems_mean, 'Continents': continents, 'HitsPerPage':hitsPerPage,\n",
    "         'Frequency': frequency, 'HitsPerMonth': hitsPerMonth, 'WeekdayMode': weekdayMode})"
   ]
  },
  {
   "cell_type": "code",
   "execution_count": 393,
   "metadata": {},
   "outputs": [],
   "source": [
    "try_dataframe.to_csv(r'ReadyForLearning.csv')"
   ]
  },
  {
   "cell_type": "markdown",
   "metadata": {},
   "source": [
    "# Обучение моделей"
   ]
  },
  {
   "cell_type": "markdown",
   "metadata": {},
   "source": [
    "## Получение X и Y из таблицы"
   ]
  },
  {
   "cell_type": "code",
   "execution_count": 2,
   "metadata": {},
   "outputs": [],
   "source": [
    "df_input = pd.read_csv('ReadyForLearning.csv', dtype={'fullVisitorId': 'str'})"
   ]
  },
  {
   "cell_type": "code",
   "execution_count": 3,
   "metadata": {},
   "outputs": [
    {
     "name": "stdout",
     "output_type": "stream",
     "text": [
      "<class 'pandas.core.frame.DataFrame'>\n",
      "RangeIndex: 85825 entries, 0 to 85824\n",
      "Data columns (total 15 columns):\n",
      " #   Column                 Non-Null Count  Dtype  \n",
      "---  ------                 --------------  -----  \n",
      " 0   fullVisitorId          85825 non-null  object \n",
      " 1   Y                      85825 non-null  float64\n",
      " 2   HitsMax                85825 non-null  float64\n",
      " 3   BounceExistence        85825 non-null  bool   \n",
      " 4   PageViewsMax           85825 non-null  float64\n",
      " 5   DeviceMode             85825 non-null  int64  \n",
      " 6   NewVisitsMin           85825 non-null  bool   \n",
      " 7   VisitNumberMax         85825 non-null  float64\n",
      " 8   ChannelGroupingMedian  85825 non-null  float64\n",
      " 9   OS_mean                85825 non-null  float64\n",
      " 10  Continents             85825 non-null  float64\n",
      " 11  HitsPerPage            85825 non-null  float64\n",
      " 12  Frequency              85825 non-null  float64\n",
      " 13  HitsPerMonth           85825 non-null  float64\n",
      " 14  WeekdayMode            85825 non-null  int64  \n",
      "dtypes: bool(2), float64(10), int64(2), object(1)\n",
      "memory usage: 8.7+ MB\n"
     ]
    }
   ],
   "source": [
    "df_input.info()"
   ]
  },
  {
   "cell_type": "code",
   "execution_count": 4,
   "metadata": {},
   "outputs": [],
   "source": [
    "df_input = df_input.set_index('fullVisitorId')"
   ]
  },
  {
   "cell_type": "code",
   "execution_count": 5,
   "metadata": {},
   "outputs": [],
   "source": [
    "Y_table = df_input.Y"
   ]
  },
  {
   "cell_type": "code",
   "execution_count": 6,
   "metadata": {},
   "outputs": [
    {
     "data": {
      "text/plain": [
       "fullVisitorId\n",
       "0000010278554503158    0.0\n",
       "0000174067426171406    0.0\n",
       "0000436683523507380    0.0\n",
       "0000568867259253661    0.0\n",
       "0000639845445148063    0.0\n",
       "                      ... \n",
       "9999636803769846518    0.0\n",
       "9999773079368714197    0.0\n",
       "9999887420016307570    0.0\n",
       "9999963186378918199    0.0\n",
       "999997550040396460     0.0\n",
       "Name: Y, Length: 85825, dtype: float64"
      ]
     },
     "execution_count": 6,
     "metadata": {},
     "output_type": "execute_result"
    }
   ],
   "source": [
    "Y_table"
   ]
  },
  {
   "cell_type": "code",
   "execution_count": 7,
   "metadata": {},
   "outputs": [],
   "source": [
    "df_input.drop('Y', 1, inplace=True)"
   ]
  },
  {
   "cell_type": "code",
   "execution_count": 8,
   "metadata": {},
   "outputs": [
    {
     "name": "stdout",
     "output_type": "stream",
     "text": [
      "<class 'pandas.core.frame.DataFrame'>\n",
      "Index: 85825 entries, 0000010278554503158 to 999997550040396460\n",
      "Data columns (total 13 columns):\n",
      " #   Column                 Non-Null Count  Dtype  \n",
      "---  ------                 --------------  -----  \n",
      " 0   HitsMax                85825 non-null  float64\n",
      " 1   BounceExistence        85825 non-null  bool   \n",
      " 2   PageViewsMax           85825 non-null  float64\n",
      " 3   DeviceMode             85825 non-null  int64  \n",
      " 4   NewVisitsMin           85825 non-null  bool   \n",
      " 5   VisitNumberMax         85825 non-null  float64\n",
      " 6   ChannelGroupingMedian  85825 non-null  float64\n",
      " 7   OS_mean                85825 non-null  float64\n",
      " 8   Continents             85825 non-null  float64\n",
      " 9   HitsPerPage            85825 non-null  float64\n",
      " 10  Frequency              85825 non-null  float64\n",
      " 11  HitsPerMonth           85825 non-null  float64\n",
      " 12  WeekdayMode            85825 non-null  int64  \n",
      "dtypes: bool(2), float64(9), int64(2)\n",
      "memory usage: 10.5+ MB\n"
     ]
    }
   ],
   "source": [
    "df_input.info()"
   ]
  },
  {
   "cell_type": "code",
   "execution_count": 9,
   "metadata": {},
   "outputs": [],
   "source": [
    "X_train, X_test, y_train, y_test = train_test_split(\n",
    "    df_input, Y_table, test_size=0.2, random_state=26)"
   ]
  },
  {
   "cell_type": "markdown",
   "metadata": {},
   "source": [
    "### Обучение GBM"
   ]
  },
  {
   "cell_type": "markdown",
   "metadata": {},
   "source": [
    "#### Проверка влияния Impurity - оказалась крайне незначительной"
   ]
  },
  {
   "cell_type": "code",
   "execution_count": 660,
   "metadata": {},
   "outputs": [],
   "source": [
    "def CheckImpurity(X_train, X_test, y_train, y_test):\n",
    "    min_impurity_parameter_values = [0.01, 0.11, 0.12, 0.13, 0.14, 0.145, 0.015, 0.155, 0.16, 0.165, 0.17, 0.02]\n",
    "    for min_impurity_decrease_parameter in min_impurity_parameter_values:\n",
    "        GBM = ensemble.GradientBoostingRegressor(n_estimators=210, min_samples_leaf=15, max_depth=5,\n",
    "                                            max_features='sqrt', subsample=0.85, min_samples_split=300, random_state=14,\n",
    "                                                min_impurity_decrease=min_impurity_decrease_parameter)\n",
    "        GBM.fit(X_train, y_train)\n",
    "        print(str(min_impurity_decrease_parameter)+\" : \"+str(GBM.score(X_test, y_test)))"
   ]
  },
  {
   "cell_type": "code",
   "execution_count": 661,
   "metadata": {},
   "outputs": [
    {
     "name": "stdout",
     "output_type": "stream",
     "text": [
      "0.01 : 0.3196772289545958\n",
      "0.11 : 0.31745538149772357\n",
      "0.12 : 0.3156371577179996\n",
      "0.13 : 0.31400467116938924\n",
      "0.14 : 0.31527571596522963\n",
      "0.145 : 0.31527571596522963\n",
      "0.015 : 0.3210923239483021\n",
      "0.155 : 0.3139408080181534\n",
      "0.16 : 0.3139408080181534\n",
      "0.165 : 0.3139408080181534\n",
      "0.17 : 0.3139408080181534\n",
      "0.02 : 0.3175282329765522\n"
     ]
    }
   ],
   "source": [
    "CheckImpurity(X_train, X_test, y_train, y_test)"
   ]
  },
  {
   "cell_type": "markdown",
   "metadata": {},
   "source": [
    "### Обучение и получение score за одну попытку:\n",
    "#### Параметры подбирались вручную исходя из вычислительных возможностей и рекомендаций к обучению GBM:\n",
    "#### https://www.analyticsvidhya.com/blog/2016/02/complete-guide-parameter-tuning-gradient-boosting-gbm-python/"
   ]
  },
  {
   "cell_type": "code",
   "execution_count": 36,
   "metadata": {},
   "outputs": [],
   "source": [
    "GBM = ensemble.GradientBoostingRegressor(n_estimators=210, min_samples_leaf=15, max_depth=5,\n",
    "                                        max_features='sqrt', subsample=0.85, min_samples_split=300 #random_state=14\n",
    "                                        )"
   ]
  },
  {
   "cell_type": "code",
   "execution_count": 37,
   "metadata": {},
   "outputs": [
    {
     "data": {
      "text/plain": [
       "GradientBoostingRegressor(alpha=0.9, ccp_alpha=0.0, criterion='friedman_mse',\n",
       "                          init=None, learning_rate=0.1, loss='ls', max_depth=5,\n",
       "                          max_features='sqrt', max_leaf_nodes=None,\n",
       "                          min_impurity_decrease=0.0, min_impurity_split=None,\n",
       "                          min_samples_leaf=15, min_samples_split=300,\n",
       "                          min_weight_fraction_leaf=0.0, n_estimators=210,\n",
       "                          n_iter_no_change=None, presort='deprecated',\n",
       "                          random_state=None, subsample=0.85, tol=0.0001,\n",
       "                          validation_fraction=0.1, verbose=0, warm_start=False)"
      ]
     },
     "execution_count": 37,
     "metadata": {},
     "output_type": "execute_result"
    }
   ],
   "source": [
    "GBM.fit(X_train, y_train)"
   ]
  },
  {
   "cell_type": "code",
   "execution_count": 38,
   "metadata": {},
   "outputs": [
    {
     "data": {
      "text/plain": [
       "0.3126097150376006"
      ]
     },
     "execution_count": 38,
     "metadata": {},
     "output_type": "execute_result"
    }
   ],
   "source": [
    "GBM.score(X_test, y_test)"
   ]
  },
  {
   "cell_type": "markdown",
   "metadata": {},
   "source": [
    "### Обучение RandomForest"
   ]
  },
  {
   "cell_type": "markdown",
   "metadata": {},
   "source": [
    "#### Поиск параметров через RandomizedSearchCV"
   ]
  },
  {
   "cell_type": "code",
   "execution_count": 17,
   "metadata": {},
   "outputs": [
    {
     "name": "stdout",
     "output_type": "stream",
     "text": [
      "Fitting 2 folds for each of 40 candidates, totalling 80 fits\n",
      "[CV] n_estimators=800, min_samples_split=10, min_samples_leaf=10, max_features=log2, max_depth=40, bootstrap=True \n"
     ]
    },
    {
     "name": "stderr",
     "output_type": "stream",
     "text": [
      "[Parallel(n_jobs=1)]: Using backend SequentialBackend with 1 concurrent workers.\n"
     ]
    },
    {
     "name": "stdout",
     "output_type": "stream",
     "text": [
      "[CV]  n_estimators=800, min_samples_split=10, min_samples_leaf=10, max_features=log2, max_depth=40, bootstrap=True, total=   8.6s\n",
      "[CV] n_estimators=800, min_samples_split=10, min_samples_leaf=10, max_features=log2, max_depth=40, bootstrap=True \n"
     ]
    },
    {
     "name": "stderr",
     "output_type": "stream",
     "text": [
      "[Parallel(n_jobs=1)]: Done   1 out of   1 | elapsed:    8.5s remaining:    0.0s\n"
     ]
    },
    {
     "name": "stdout",
     "output_type": "stream",
     "text": [
      "[CV]  n_estimators=800, min_samples_split=10, min_samples_leaf=10, max_features=log2, max_depth=40, bootstrap=True, total=   8.8s\n",
      "[CV] n_estimators=600, min_samples_split=200, min_samples_leaf=5, max_features=auto, max_depth=9, bootstrap=False \n",
      "[CV]  n_estimators=600, min_samples_split=200, min_samples_leaf=5, max_features=auto, max_depth=9, bootstrap=False, total=  19.9s\n",
      "[CV] n_estimators=600, min_samples_split=200, min_samples_leaf=5, max_features=auto, max_depth=9, bootstrap=False \n",
      "[CV]  n_estimators=600, min_samples_split=200, min_samples_leaf=5, max_features=auto, max_depth=9, bootstrap=False, total=  23.1s\n",
      "[CV] n_estimators=100, min_samples_split=10, min_samples_leaf=10, max_features=sqrt, max_depth=40, bootstrap=True \n",
      "[CV]  n_estimators=100, min_samples_split=10, min_samples_leaf=10, max_features=sqrt, max_depth=40, bootstrap=True, total=   1.3s\n",
      "[CV] n_estimators=100, min_samples_split=10, min_samples_leaf=10, max_features=sqrt, max_depth=40, bootstrap=True \n",
      "[CV]  n_estimators=100, min_samples_split=10, min_samples_leaf=10, max_features=sqrt, max_depth=40, bootstrap=True, total=   1.3s\n",
      "[CV] n_estimators=800, min_samples_split=150, min_samples_leaf=15, max_features=auto, max_depth=80, bootstrap=True \n",
      "[CV]  n_estimators=800, min_samples_split=150, min_samples_leaf=15, max_features=auto, max_depth=80, bootstrap=True, total=  17.9s\n",
      "[CV] n_estimators=800, min_samples_split=150, min_samples_leaf=15, max_features=auto, max_depth=80, bootstrap=True \n",
      "[CV]  n_estimators=800, min_samples_split=150, min_samples_leaf=15, max_features=auto, max_depth=80, bootstrap=True, total=  19.2s\n",
      "[CV] n_estimators=400, min_samples_split=5, min_samples_leaf=50, max_features=sqrt, max_depth=8, bootstrap=False \n",
      "[CV]  n_estimators=400, min_samples_split=5, min_samples_leaf=50, max_features=sqrt, max_depth=8, bootstrap=False, total=   4.6s\n",
      "[CV] n_estimators=400, min_samples_split=5, min_samples_leaf=50, max_features=sqrt, max_depth=8, bootstrap=False \n",
      "[CV]  n_estimators=400, min_samples_split=5, min_samples_leaf=50, max_features=sqrt, max_depth=8, bootstrap=False, total=   4.7s\n",
      "[CV] n_estimators=200, min_samples_split=2, min_samples_leaf=40, max_features=log2, max_depth=80, bootstrap=False \n",
      "[CV]  n_estimators=200, min_samples_split=2, min_samples_leaf=40, max_features=log2, max_depth=80, bootstrap=False, total=   2.4s\n",
      "[CV] n_estimators=200, min_samples_split=2, min_samples_leaf=40, max_features=log2, max_depth=80, bootstrap=False \n",
      "[CV]  n_estimators=200, min_samples_split=2, min_samples_leaf=40, max_features=log2, max_depth=80, bootstrap=False, total=   2.5s\n",
      "[CV] n_estimators=1600, min_samples_split=20, min_samples_leaf=60, max_features=log2, max_depth=10, bootstrap=False \n",
      "[CV]  n_estimators=1600, min_samples_split=20, min_samples_leaf=60, max_features=log2, max_depth=10, bootstrap=False, total=  19.5s\n",
      "[CV] n_estimators=1600, min_samples_split=20, min_samples_leaf=60, max_features=log2, max_depth=10, bootstrap=False \n",
      "[CV]  n_estimators=1600, min_samples_split=20, min_samples_leaf=60, max_features=log2, max_depth=10, bootstrap=False, total=  19.3s\n",
      "[CV] n_estimators=800, min_samples_split=350, min_samples_leaf=2, max_features=auto, max_depth=50, bootstrap=True \n",
      "[CV]  n_estimators=800, min_samples_split=350, min_samples_leaf=2, max_features=auto, max_depth=50, bootstrap=True, total=  17.7s\n",
      "[CV] n_estimators=800, min_samples_split=350, min_samples_leaf=2, max_features=auto, max_depth=50, bootstrap=True \n",
      "[CV]  n_estimators=800, min_samples_split=350, min_samples_leaf=2, max_features=auto, max_depth=50, bootstrap=True, total=  18.9s\n",
      "[CV] n_estimators=800, min_samples_split=300, min_samples_leaf=2, max_features=log2, max_depth=3, bootstrap=True \n",
      "[CV]  n_estimators=800, min_samples_split=300, min_samples_leaf=2, max_features=log2, max_depth=3, bootstrap=True, total=   6.5s\n",
      "[CV] n_estimators=800, min_samples_split=300, min_samples_leaf=2, max_features=log2, max_depth=3, bootstrap=True \n",
      "[CV]  n_estimators=800, min_samples_split=300, min_samples_leaf=2, max_features=log2, max_depth=3, bootstrap=True, total=   6.0s\n",
      "[CV] n_estimators=400, min_samples_split=25, min_samples_leaf=7, max_features=auto, max_depth=60, bootstrap=True \n",
      "[CV]  n_estimators=400, min_samples_split=25, min_samples_leaf=7, max_features=auto, max_depth=60, bootstrap=True, total=   9.6s\n",
      "[CV] n_estimators=400, min_samples_split=25, min_samples_leaf=7, max_features=auto, max_depth=60, bootstrap=True \n",
      "[CV]  n_estimators=400, min_samples_split=25, min_samples_leaf=7, max_features=auto, max_depth=60, bootstrap=True, total=  10.6s\n",
      "[CV] n_estimators=1200, min_samples_split=10, min_samples_leaf=2, max_features=auto, max_depth=8, bootstrap=True \n",
      "[CV]  n_estimators=1200, min_samples_split=10, min_samples_leaf=2, max_features=auto, max_depth=8, bootstrap=True, total=  28.1s\n",
      "[CV] n_estimators=1200, min_samples_split=10, min_samples_leaf=2, max_features=auto, max_depth=8, bootstrap=True \n",
      "[CV]  n_estimators=1200, min_samples_split=10, min_samples_leaf=2, max_features=auto, max_depth=8, bootstrap=True, total=  31.0s\n",
      "[CV] n_estimators=1400, min_samples_split=15, min_samples_leaf=3, max_features=log2, max_depth=70, bootstrap=True \n",
      "[CV]  n_estimators=1400, min_samples_split=15, min_samples_leaf=3, max_features=log2, max_depth=70, bootstrap=True, total=  15.8s\n",
      "[CV] n_estimators=1400, min_samples_split=15, min_samples_leaf=3, max_features=log2, max_depth=70, bootstrap=True \n",
      "[CV]  n_estimators=1400, min_samples_split=15, min_samples_leaf=3, max_features=log2, max_depth=70, bootstrap=True, total=  16.0s\n",
      "[CV] n_estimators=100, min_samples_split=60, min_samples_leaf=20, max_features=auto, max_depth=20, bootstrap=True \n",
      "[CV]  n_estimators=100, min_samples_split=60, min_samples_leaf=20, max_features=auto, max_depth=20, bootstrap=True, total=   2.3s\n",
      "[CV] n_estimators=100, min_samples_split=60, min_samples_leaf=20, max_features=auto, max_depth=20, bootstrap=True \n",
      "[CV]  n_estimators=100, min_samples_split=60, min_samples_leaf=20, max_features=auto, max_depth=20, bootstrap=True, total=   2.5s\n",
      "[CV] n_estimators=100, min_samples_split=10, min_samples_leaf=100, max_features=auto, max_depth=9, bootstrap=True \n",
      "[CV]  n_estimators=100, min_samples_split=10, min_samples_leaf=100, max_features=auto, max_depth=9, bootstrap=True, total=   2.2s\n",
      "[CV] n_estimators=100, min_samples_split=10, min_samples_leaf=100, max_features=auto, max_depth=9, bootstrap=True \n",
      "[CV]  n_estimators=100, min_samples_split=10, min_samples_leaf=100, max_features=auto, max_depth=9, bootstrap=True, total=   2.4s\n",
      "[CV] n_estimators=100, min_samples_split=60, min_samples_leaf=60, max_features=sqrt, max_depth=3, bootstrap=True \n",
      "[CV]  n_estimators=100, min_samples_split=60, min_samples_leaf=60, max_features=sqrt, max_depth=3, bootstrap=True, total=   0.9s\n",
      "[CV] n_estimators=100, min_samples_split=60, min_samples_leaf=60, max_features=sqrt, max_depth=3, bootstrap=True \n",
      "[CV]  n_estimators=100, min_samples_split=60, min_samples_leaf=60, max_features=sqrt, max_depth=3, bootstrap=True, total=   0.9s\n",
      "[CV] n_estimators=1000, min_samples_split=60, min_samples_leaf=3, max_features=sqrt, max_depth=30, bootstrap=True \n",
      "[CV]  n_estimators=1000, min_samples_split=60, min_samples_leaf=3, max_features=sqrt, max_depth=30, bootstrap=True, total=  10.9s\n",
      "[CV] n_estimators=1000, min_samples_split=60, min_samples_leaf=3, max_features=sqrt, max_depth=30, bootstrap=True \n",
      "[CV]  n_estimators=1000, min_samples_split=60, min_samples_leaf=3, max_features=sqrt, max_depth=30, bootstrap=True, total=  10.8s\n",
      "[CV] n_estimators=1400, min_samples_split=40, min_samples_leaf=60, max_features=auto, max_depth=60, bootstrap=True \n",
      "[CV]  n_estimators=1400, min_samples_split=40, min_samples_leaf=60, max_features=auto, max_depth=60, bootstrap=True, total=  32.4s\n",
      "[CV] n_estimators=1400, min_samples_split=40, min_samples_leaf=60, max_features=auto, max_depth=60, bootstrap=True \n",
      "[CV]  n_estimators=1400, min_samples_split=40, min_samples_leaf=60, max_features=auto, max_depth=60, bootstrap=True, total=  34.1s\n",
      "[CV] n_estimators=600, min_samples_split=250, min_samples_leaf=60, max_features=sqrt, max_depth=50, bootstrap=True \n",
      "[CV]  n_estimators=600, min_samples_split=250, min_samples_leaf=60, max_features=sqrt, max_depth=50, bootstrap=True, total=   6.2s\n",
      "[CV] n_estimators=600, min_samples_split=250, min_samples_leaf=60, max_features=sqrt, max_depth=50, bootstrap=True \n",
      "[CV]  n_estimators=600, min_samples_split=250, min_samples_leaf=60, max_features=sqrt, max_depth=50, bootstrap=True, total=   6.6s\n",
      "[CV] n_estimators=100, min_samples_split=60, min_samples_leaf=1, max_features=auto, max_depth=20, bootstrap=True \n",
      "[CV]  n_estimators=100, min_samples_split=60, min_samples_leaf=1, max_features=auto, max_depth=20, bootstrap=True, total=   2.4s\n",
      "[CV] n_estimators=100, min_samples_split=60, min_samples_leaf=1, max_features=auto, max_depth=20, bootstrap=True \n",
      "[CV]  n_estimators=100, min_samples_split=60, min_samples_leaf=1, max_features=auto, max_depth=20, bootstrap=True, total=   2.7s\n",
      "[CV] n_estimators=150, min_samples_split=200, min_samples_leaf=7, max_features=log2, max_depth=60, bootstrap=False \n",
      "[CV]  n_estimators=150, min_samples_split=200, min_samples_leaf=7, max_features=log2, max_depth=60, bootstrap=False, total=   1.8s\n",
      "[CV] n_estimators=150, min_samples_split=200, min_samples_leaf=7, max_features=log2, max_depth=60, bootstrap=False \n",
      "[CV]  n_estimators=150, min_samples_split=200, min_samples_leaf=7, max_features=log2, max_depth=60, bootstrap=False, total=   1.9s\n",
      "[CV] n_estimators=1200, min_samples_split=40, min_samples_leaf=10, max_features=sqrt, max_depth=50, bootstrap=True \n",
      "[CV]  n_estimators=1200, min_samples_split=40, min_samples_leaf=10, max_features=sqrt, max_depth=50, bootstrap=True, total=  12.9s\n",
      "[CV] n_estimators=1200, min_samples_split=40, min_samples_leaf=10, max_features=sqrt, max_depth=50, bootstrap=True \n",
      "[CV]  n_estimators=1200, min_samples_split=40, min_samples_leaf=10, max_features=sqrt, max_depth=50, bootstrap=True, total=  14.5s\n",
      "[CV] n_estimators=1200, min_samples_split=20, min_samples_leaf=5, max_features=sqrt, max_depth=7, bootstrap=True \n",
      "[CV]  n_estimators=1200, min_samples_split=20, min_samples_leaf=5, max_features=sqrt, max_depth=7, bootstrap=True, total=  13.3s\n",
      "[CV] n_estimators=1200, min_samples_split=20, min_samples_leaf=5, max_features=sqrt, max_depth=7, bootstrap=True \n",
      "[CV]  n_estimators=1200, min_samples_split=20, min_samples_leaf=5, max_features=sqrt, max_depth=7, bootstrap=True, total=  13.6s\n",
      "[CV] n_estimators=1400, min_samples_split=200, min_samples_leaf=20, max_features=sqrt, max_depth=80, bootstrap=False \n",
      "[CV]  n_estimators=1400, min_samples_split=200, min_samples_leaf=20, max_features=sqrt, max_depth=80, bootstrap=False, total=  16.5s\n",
      "[CV] n_estimators=1400, min_samples_split=200, min_samples_leaf=20, max_features=sqrt, max_depth=80, bootstrap=False \n",
      "[CV]  n_estimators=1400, min_samples_split=200, min_samples_leaf=20, max_features=sqrt, max_depth=80, bootstrap=False, total=  17.6s\n",
      "[CV] n_estimators=1400, min_samples_split=15, min_samples_leaf=40, max_features=auto, max_depth=40, bootstrap=True \n",
      "[CV]  n_estimators=1400, min_samples_split=15, min_samples_leaf=40, max_features=auto, max_depth=40, bootstrap=True, total=  31.3s\n",
      "[CV] n_estimators=1400, min_samples_split=15, min_samples_leaf=40, max_features=auto, max_depth=40, bootstrap=True \n",
      "[CV]  n_estimators=1400, min_samples_split=15, min_samples_leaf=40, max_features=auto, max_depth=40, bootstrap=True, total=  32.6s\n",
      "[CV] n_estimators=1600, min_samples_split=5, min_samples_leaf=40, max_features=auto, max_depth=40, bootstrap=False \n",
      "[CV]  n_estimators=1600, min_samples_split=5, min_samples_leaf=40, max_features=auto, max_depth=40, bootstrap=False, total=  54.6s\n",
      "[CV] n_estimators=1600, min_samples_split=5, min_samples_leaf=40, max_features=auto, max_depth=40, bootstrap=False \n",
      "[CV]  n_estimators=1600, min_samples_split=5, min_samples_leaf=40, max_features=auto, max_depth=40, bootstrap=False, total= 1.1min\n",
      "[CV] n_estimators=1000, min_samples_split=250, min_samples_leaf=7, max_features=auto, max_depth=20, bootstrap=True \n",
      "[CV]  n_estimators=1000, min_samples_split=250, min_samples_leaf=7, max_features=auto, max_depth=20, bootstrap=True, total=  23.8s\n",
      "[CV] n_estimators=1000, min_samples_split=250, min_samples_leaf=7, max_features=auto, max_depth=20, bootstrap=True \n",
      "[CV]  n_estimators=1000, min_samples_split=250, min_samples_leaf=7, max_features=auto, max_depth=20, bootstrap=True, total=  23.9s\n",
      "[CV] n_estimators=100, min_samples_split=60, min_samples_leaf=2, max_features=auto, max_depth=9, bootstrap=False \n",
      "[CV]  n_estimators=100, min_samples_split=60, min_samples_leaf=2, max_features=auto, max_depth=9, bootstrap=False, total=   3.8s\n",
      "[CV] n_estimators=100, min_samples_split=60, min_samples_leaf=2, max_features=auto, max_depth=9, bootstrap=False \n",
      "[CV]  n_estimators=100, min_samples_split=60, min_samples_leaf=2, max_features=auto, max_depth=9, bootstrap=False, total=   3.9s\n",
      "[CV] n_estimators=400, min_samples_split=80, min_samples_leaf=25, max_features=auto, max_depth=7, bootstrap=True \n",
      "[CV]  n_estimators=400, min_samples_split=80, min_samples_leaf=25, max_features=auto, max_depth=7, bootstrap=True, total=   8.7s\n",
      "[CV] n_estimators=400, min_samples_split=80, min_samples_leaf=25, max_features=auto, max_depth=7, bootstrap=True \n",
      "[CV]  n_estimators=400, min_samples_split=80, min_samples_leaf=25, max_features=auto, max_depth=7, bootstrap=True, total=   9.7s\n",
      "[CV] n_estimators=1000, min_samples_split=300, min_samples_leaf=15, max_features=log2, max_depth=9, bootstrap=True \n",
      "[CV]  n_estimators=1000, min_samples_split=300, min_samples_leaf=15, max_features=log2, max_depth=9, bootstrap=True, total=  10.6s\n",
      "[CV] n_estimators=1000, min_samples_split=300, min_samples_leaf=15, max_features=log2, max_depth=9, bootstrap=True \n",
      "[CV]  n_estimators=1000, min_samples_split=300, min_samples_leaf=15, max_features=log2, max_depth=9, bootstrap=True, total=  10.3s\n",
      "[CV] n_estimators=1400, min_samples_split=2, min_samples_leaf=7, max_features=log2, max_depth=20, bootstrap=True \n",
      "[CV]  n_estimators=1400, min_samples_split=2, min_samples_leaf=7, max_features=log2, max_depth=20, bootstrap=True, total=  15.3s\n",
      "[CV] n_estimators=1400, min_samples_split=2, min_samples_leaf=7, max_features=log2, max_depth=20, bootstrap=True \n",
      "[CV]  n_estimators=1400, min_samples_split=2, min_samples_leaf=7, max_features=log2, max_depth=20, bootstrap=True, total=  15.9s\n",
      "[CV] n_estimators=150, min_samples_split=40, min_samples_leaf=15, max_features=sqrt, max_depth=30, bootstrap=True \n",
      "[CV]  n_estimators=150, min_samples_split=40, min_samples_leaf=15, max_features=sqrt, max_depth=30, bootstrap=True, total=   1.6s\n",
      "[CV] n_estimators=150, min_samples_split=40, min_samples_leaf=15, max_features=sqrt, max_depth=30, bootstrap=True \n",
      "[CV]  n_estimators=150, min_samples_split=40, min_samples_leaf=15, max_features=sqrt, max_depth=30, bootstrap=True, total=   1.7s\n",
      "[CV] n_estimators=1400, min_samples_split=200, min_samples_leaf=25, max_features=auto, max_depth=60, bootstrap=False \n",
      "[CV]  n_estimators=1400, min_samples_split=200, min_samples_leaf=25, max_features=auto, max_depth=60, bootstrap=False, total=  45.7s\n",
      "[CV] n_estimators=1400, min_samples_split=200, min_samples_leaf=25, max_features=auto, max_depth=60, bootstrap=False \n",
      "[CV]  n_estimators=1400, min_samples_split=200, min_samples_leaf=25, max_features=auto, max_depth=60, bootstrap=False, total=  53.5s\n",
      "[CV] n_estimators=800, min_samples_split=2, min_samples_leaf=50, max_features=log2, max_depth=80, bootstrap=True \n",
      "[CV]  n_estimators=800, min_samples_split=2, min_samples_leaf=50, max_features=log2, max_depth=80, bootstrap=True, total=   8.4s\n",
      "[CV] n_estimators=800, min_samples_split=2, min_samples_leaf=50, max_features=log2, max_depth=80, bootstrap=True \n",
      "[CV]  n_estimators=800, min_samples_split=2, min_samples_leaf=50, max_features=log2, max_depth=80, bootstrap=True, total=   9.1s\n",
      "[CV] n_estimators=1600, min_samples_split=15, min_samples_leaf=3, max_features=log2, max_depth=5, bootstrap=True \n",
      "[CV]  n_estimators=1600, min_samples_split=15, min_samples_leaf=3, max_features=log2, max_depth=5, bootstrap=True, total=  15.7s\n",
      "[CV] n_estimators=1600, min_samples_split=15, min_samples_leaf=3, max_features=log2, max_depth=5, bootstrap=True \n",
      "[CV]  n_estimators=1600, min_samples_split=15, min_samples_leaf=3, max_features=log2, max_depth=5, bootstrap=True, total=  15.9s\n",
      "[CV] n_estimators=400, min_samples_split=350, min_samples_leaf=40, max_features=auto, max_depth=60, bootstrap=True \n",
      "[CV]  n_estimators=400, min_samples_split=350, min_samples_leaf=40, max_features=auto, max_depth=60, bootstrap=True, total=   9.4s\n",
      "[CV] n_estimators=400, min_samples_split=350, min_samples_leaf=40, max_features=auto, max_depth=60, bootstrap=True \n",
      "[CV]  n_estimators=400, min_samples_split=350, min_samples_leaf=40, max_features=auto, max_depth=60, bootstrap=True, total=   9.5s\n",
      "[CV] n_estimators=150, min_samples_split=350, min_samples_leaf=10, max_features=auto, max_depth=9, bootstrap=False \n",
      "[CV]  n_estimators=150, min_samples_split=350, min_samples_leaf=10, max_features=auto, max_depth=9, bootstrap=False, total=   5.0s\n",
      "[CV] n_estimators=150, min_samples_split=350, min_samples_leaf=10, max_features=auto, max_depth=9, bootstrap=False \n",
      "[CV]  n_estimators=150, min_samples_split=350, min_samples_leaf=10, max_features=auto, max_depth=9, bootstrap=False, total=   6.1s\n",
      "[CV] n_estimators=1600, min_samples_split=80, min_samples_leaf=1, max_features=log2, max_depth=20, bootstrap=True \n",
      "[CV]  n_estimators=1600, min_samples_split=80, min_samples_leaf=1, max_features=log2, max_depth=20, bootstrap=True, total=  20.6s\n",
      "[CV] n_estimators=1600, min_samples_split=80, min_samples_leaf=1, max_features=log2, max_depth=20, bootstrap=True \n",
      "[CV]  n_estimators=1600, min_samples_split=80, min_samples_leaf=1, max_features=log2, max_depth=20, bootstrap=True, total=  18.3s\n",
      "[CV] n_estimators=1200, min_samples_split=2, min_samples_leaf=15, max_features=sqrt, max_depth=None, bootstrap=True \n",
      "[CV]  n_estimators=1200, min_samples_split=2, min_samples_leaf=15, max_features=sqrt, max_depth=None, bootstrap=True, total=  12.7s\n",
      "[CV] n_estimators=1200, min_samples_split=2, min_samples_leaf=15, max_features=sqrt, max_depth=None, bootstrap=True \n",
      "[CV]  n_estimators=1200, min_samples_split=2, min_samples_leaf=15, max_features=sqrt, max_depth=None, bootstrap=True, total=  13.4s\n",
      "[CV] n_estimators=200, min_samples_split=150, min_samples_leaf=10, max_features=auto, max_depth=50, bootstrap=False \n",
      "[CV]  n_estimators=200, min_samples_split=150, min_samples_leaf=10, max_features=auto, max_depth=50, bootstrap=False, total=   7.3s\n",
      "[CV] n_estimators=200, min_samples_split=150, min_samples_leaf=10, max_features=auto, max_depth=50, bootstrap=False \n",
      "[CV]  n_estimators=200, min_samples_split=150, min_samples_leaf=10, max_features=auto, max_depth=50, bootstrap=False, total=   8.3s\n",
      "[CV] n_estimators=1400, min_samples_split=60, min_samples_leaf=100, max_features=log2, max_depth=3, bootstrap=True \n",
      "[CV]  n_estimators=1400, min_samples_split=60, min_samples_leaf=100, max_features=log2, max_depth=3, bootstrap=True, total=  10.3s\n",
      "[CV] n_estimators=1400, min_samples_split=60, min_samples_leaf=100, max_features=log2, max_depth=3, bootstrap=True \n",
      "[CV]  n_estimators=1400, min_samples_split=60, min_samples_leaf=100, max_features=log2, max_depth=3, bootstrap=True, total=  10.0s\n"
     ]
    },
    {
     "name": "stderr",
     "output_type": "stream",
     "text": [
      "[Parallel(n_jobs=1)]: Done  80 out of  80 | elapsed: 18.6min finished\n"
     ]
    },
    {
     "name": "stdout",
     "output_type": "stream",
     "text": [
      "{'n_estimators': 1000, 'min_samples_split': 60, 'min_samples_leaf': 3, 'max_features': 'sqrt', 'max_depth': 30, 'bootstrap': True}\n"
     ]
    }
   ],
   "source": [
    "from sklearn.model_selection import RandomizedSearchCV\n",
    "# count of trees in random forest\n",
    "n_estimators = [100, 150, 200, 400, 600, 800, 1000, 1200, 1400, 1600]#, 1000, 1200, 1400, 1600, 1800, 2000\n",
    "# count of features for splitting\n",
    "max_features = ['auto', 'sqrt', 'log2']\n",
    "# max number of levels in tree\n",
    "max_depth = [3, 5, 7, 8, 9, 10, 20, 30, 40, 50, 60, 70, 80, None]#, 40, 50, 60, 70, 80, 90, 100\n",
    "# min of samples for splitting\n",
    "min_samples_split = [2, 5, 10, 15, 20, 25, 40, 60, 80, 150, 200, 250, 300, 350]\n",
    "# min of samples for a leaf\n",
    "min_samples_leaf = [1, 2, 3, 5, 7, 10, 15, 20, 25, 40, 50, 60, 100]\n",
    "# Method of selecting samples for training each tree\n",
    "bootstrap = [True, False]\n",
    "# Loss criteria\n",
    "#criterion = ['mse', 'mae']\n",
    "# columns\n",
    "#max_features = ['auto', 'sqrt', 'log2']\n",
    "\n",
    "parameters = {'n_estimators': n_estimators,\n",
    "               'max_features': max_features,\n",
    "               'max_depth': max_depth,\n",
    "               'min_samples_split': min_samples_split,\n",
    "               'min_samples_leaf': min_samples_leaf,\n",
    "               'bootstrap': bootstrap}#, 'criterion': criterion, 'max_features': max_features\n",
    "\n",
    "rf = ensemble.RandomForestRegressor()\n",
    "rf_random = RandomizedSearchCV(estimator = rf, param_distributions = parameters, \n",
    "                               n_iter = 40, cv = 2, verbose=2, random_state=30)\n",
    "rf_random.fit(X_train, y_train)\n",
    "\n",
    "print(rf_random.best_params_)"
   ]
  },
  {
   "cell_type": "markdown",
   "metadata": {},
   "source": [
    "#### Проверка работы на одной попытке"
   ]
  },
  {
   "cell_type": "code",
   "execution_count": 14,
   "metadata": {},
   "outputs": [],
   "source": [
    "RandomForest = ensemble.RandomForestRegressor(n_estimators=800, min_samples_split=80,\n",
    "                                              max_depth=None, max_features=\"log2\",random_state=30,\n",
    "                                             min_samples_leaf=10, bootstrap=False)"
   ]
  },
  {
   "cell_type": "code",
   "execution_count": 21,
   "metadata": {},
   "outputs": [],
   "source": [
    "RandomForest = ensemble.RandomForestRegressor(n_estimators=1000, min_samples_split=60,\n",
    "                                              max_depth=30, max_features=\"sqrt\",random_state=30,\n",
    "                                             min_samples_leaf=3, bootstrap=True)"
   ]
  },
  {
   "cell_type": "code",
   "execution_count": 22,
   "metadata": {},
   "outputs": [
    {
     "data": {
      "text/plain": [
       "RandomForestRegressor(bootstrap=True, ccp_alpha=0.0, criterion='mse',\n",
       "                      max_depth=30, max_features='sqrt', max_leaf_nodes=None,\n",
       "                      max_samples=None, min_impurity_decrease=0.0,\n",
       "                      min_impurity_split=None, min_samples_leaf=3,\n",
       "                      min_samples_split=60, min_weight_fraction_leaf=0.0,\n",
       "                      n_estimators=1000, n_jobs=None, oob_score=False,\n",
       "                      random_state=30, verbose=0, warm_start=False)"
      ]
     },
     "execution_count": 22,
     "metadata": {},
     "output_type": "execute_result"
    }
   ],
   "source": [
    "RandomForest.fit(X_train, y_train)"
   ]
  },
  {
   "cell_type": "code",
   "execution_count": 23,
   "metadata": {},
   "outputs": [
    {
     "data": {
      "text/plain": [
       "0.31047899786398414"
      ]
     },
     "execution_count": 23,
     "metadata": {},
     "output_type": "execute_result"
    }
   ],
   "source": [
    "RandomForest.score(X_test, y_test)"
   ]
  },
  {
   "cell_type": "markdown",
   "metadata": {},
   "source": [
    "### Обучение линейной регрессии\n",
    "#### В sklearn отсутствует возможность задачи гиперпараметров кроме нормализации"
   ]
  },
  {
   "cell_type": "code",
   "execution_count": 30,
   "metadata": {},
   "outputs": [],
   "source": [
    "LinRegression = LinearRegression(normalize=False)"
   ]
  },
  {
   "cell_type": "code",
   "execution_count": 31,
   "metadata": {},
   "outputs": [
    {
     "data": {
      "text/plain": [
       "LinearRegression(copy_X=True, fit_intercept=True, n_jobs=None, normalize=False)"
      ]
     },
     "execution_count": 31,
     "metadata": {},
     "output_type": "execute_result"
    }
   ],
   "source": [
    "LinRegression.fit(X_train, y_train)"
   ]
  },
  {
   "cell_type": "code",
   "execution_count": 32,
   "metadata": {},
   "outputs": [
    {
     "data": {
      "text/plain": [
       "0.1333814218852556"
      ]
     },
     "execution_count": 32,
     "metadata": {},
     "output_type": "execute_result"
    }
   ],
   "source": [
    "LinRegression.score(X_test, y_test)"
   ]
  },
  {
   "cell_type": "markdown",
   "metadata": {},
   "source": [
    "### Обучение SVR"
   ]
  },
  {
   "cell_type": "code",
   "execution_count": 38,
   "metadata": {},
   "outputs": [],
   "source": [
    "test2d = y_train.values.reshape(1,-1)"
   ]
  },
  {
   "cell_type": "code",
   "execution_count": 39,
   "metadata": {},
   "outputs": [
    {
     "data": {
      "text/plain": [
       "array([[0., 0., 0., ..., 0., 0., 0.]])"
      ]
     },
     "execution_count": 39,
     "metadata": {},
     "output_type": "execute_result"
    }
   ],
   "source": [
    "test2d"
   ]
  },
  {
   "cell_type": "code",
   "execution_count": 11,
   "metadata": {},
   "outputs": [],
   "source": [
    "sc_X = StandardScaler()\n",
    "sc_y = StandardScaler()\n",
    "X_svr_train = sc_X.fit_transform(X_train)\n",
    "Y_svr_train = sc_y.fit_transform(y_train.values.reshape(1,-1)).reshape(-1, 1)#.values()\n",
    "X_svr_test = sc_X.fit_transform(X_test)\n",
    "Y_svr_test = sc_y.fit_transform(y_test.values.reshape(1,-1)).reshape(-1, 1)#.values()"
   ]
  },
  {
   "cell_type": "code",
   "execution_count": 76,
   "metadata": {},
   "outputs": [],
   "source": [
    "svr = SVR(C=12.0, epsilon=0.2, kernel=\"poly\", max_iter=50000)"
   ]
  },
  {
   "cell_type": "code",
   "execution_count": 77,
   "metadata": {},
   "outputs": [
    {
     "name": "stderr",
     "output_type": "stream",
     "text": [
      "C:\\Users\\Admin\\Miniconda3\\envs\\IntroML\\lib\\site-packages\\sklearn\\svm\\_base.py:228: ConvergenceWarning: Solver terminated early (max_iter=50000).  Consider pre-processing your data with StandardScaler or MinMaxScaler.\n",
      "  warnings.warn('Solver terminated early (max_iter=%i).'\n"
     ]
    },
    {
     "data": {
      "text/plain": [
       "SVR(C=12.0, cache_size=200, coef0=0.0, degree=3, epsilon=0.2, gamma='scale',\n",
       "    kernel='poly', max_iter=50000, shrinking=True, tol=0.001, verbose=False)"
      ]
     },
     "execution_count": 77,
     "metadata": {},
     "output_type": "execute_result"
    }
   ],
   "source": [
    "svr.fit(X_train, y_train) #NORMALIZE!!! "
   ]
  },
  {
   "cell_type": "code",
   "execution_count": 78,
   "metadata": {},
   "outputs": [
    {
     "data": {
      "text/plain": [
       "0.009756357873817234"
      ]
     },
     "execution_count": 78,
     "metadata": {},
     "output_type": "execute_result"
    }
   ],
   "source": [
    "svr.score(X_test, y_test)"
   ]
  },
  {
   "cell_type": "code",
   "execution_count": 19,
   "metadata": {},
   "outputs": [
    {
     "name": "stderr",
     "output_type": "stream",
     "text": [
      "C:\\Users\\Admin\\Miniconda3\\envs\\IntroML\\lib\\site-packages\\sklearn\\svm\\_base.py:946: ConvergenceWarning: Liblinear failed to converge, increase the number of iterations.\n",
      "  warnings.warn(\"Liblinear failed to converge, increase \"\n"
     ]
    },
    {
     "data": {
      "text/plain": [
       "Pipeline(memory=None,\n",
       "         steps=[('poly_features',\n",
       "                 PolynomialFeatures(degree=3, include_bias=True,\n",
       "                                    interaction_only=False, order='C')),\n",
       "                ('scaler',\n",
       "                 StandardScaler(copy=True, with_mean=True, with_std=True)),\n",
       "                ('linear_svr',\n",
       "                 LinearSVR(C=1000, dual=True, epsilon=0.2, fit_intercept=True,\n",
       "                           intercept_scaling=1.0, loss='epsilon_insensitive',\n",
       "                           max_iter=10000, random_state=None, tol=0.0001,\n",
       "                           verbose=0))],\n",
       "         verbose=False)"
      ]
     },
     "execution_count": 19,
     "metadata": {},
     "output_type": "execute_result"
    }
   ],
   "source": [
    "\"\"\"svm_reg = Pipeline([\n",
    " (\"scaler\", StandardScaler()),\n",
    " (\"linear_svr\", LinearSVR(C=1000, epsilon=0.2, max_iter=10000)),#, epsilon=0.2\n",
    " ])\n",
    "svm_reg.fit(X_train, y_train)\"\"\"\n",
    "#l_svr = LinearSVR(C=1000.0, epsilon=0.2, max_iter=10000)"
   ]
  },
  {
   "cell_type": "code",
   "execution_count": 79,
   "metadata": {},
   "outputs": [
    {
     "name": "stderr",
     "output_type": "stream",
     "text": [
      "C:\\Users\\Admin\\Miniconda3\\envs\\IntroML\\lib\\site-packages\\sklearn\\svm\\_base.py:946: ConvergenceWarning: Liblinear failed to converge, increase the number of iterations.\n",
      "  warnings.warn(\"Liblinear failed to converge, increase \"\n"
     ]
    },
    {
     "data": {
      "text/plain": [
       "LinearSVR(C=1000, dual=True, epsilon=0.2, fit_intercept=True,\n",
       "          intercept_scaling=1.0, loss='epsilon_insensitive', max_iter=10000,\n",
       "          random_state=None, tol=0.0001, verbose=0)"
      ]
     },
     "execution_count": 79,
     "metadata": {},
     "output_type": "execute_result"
    }
   ],
   "source": [
    "l_svr = LinearSVR(C=1000, epsilon=0.2, max_iter=10000)\n",
    "l_svr.fit(X_train, y_train)"
   ]
  },
  {
   "cell_type": "code",
   "execution_count": 80,
   "metadata": {},
   "outputs": [
    {
     "data": {
      "text/plain": [
       "0.015070312525564011"
      ]
     },
     "execution_count": 80,
     "metadata": {},
     "output_type": "execute_result"
    }
   ],
   "source": [
    "l_svr.score(X_test, y_test)"
   ]
  },
  {
   "cell_type": "markdown",
   "metadata": {},
   "source": [
    "### Вычисление медианы"
   ]
  },
  {
   "cell_type": "code",
   "execution_count": 81,
   "metadata": {},
   "outputs": [],
   "source": [
    "crossval = ShuffleSplit(n_splits=5, test_size=0.2, random_state=13)\n",
    "GBM_score = statistics.median(cross_val_score(GBM,  df_input, Y_table, cv=crossval))"
   ]
  },
  {
   "cell_type": "code",
   "execution_count": 82,
   "metadata": {},
   "outputs": [],
   "source": [
    "RF_score = statistics.median(cross_val_score(RandomForest, df_input, Y_table, cv=crossval))"
   ]
  },
  {
   "cell_type": "code",
   "execution_count": 83,
   "metadata": {},
   "outputs": [],
   "source": [
    "LR_score = statistics.median(cross_val_score(LinRegression, df_input, Y_table, cv=crossval))"
   ]
  },
  {
   "cell_type": "code",
   "execution_count": 84,
   "metadata": {},
   "outputs": [
    {
     "name": "stderr",
     "output_type": "stream",
     "text": [
      "C:\\Users\\Admin\\Miniconda3\\envs\\IntroML\\lib\\site-packages\\sklearn\\svm\\_base.py:946: ConvergenceWarning: Liblinear failed to converge, increase the number of iterations.\n",
      "  warnings.warn(\"Liblinear failed to converge, increase \"\n",
      "C:\\Users\\Admin\\Miniconda3\\envs\\IntroML\\lib\\site-packages\\sklearn\\svm\\_base.py:946: ConvergenceWarning: Liblinear failed to converge, increase the number of iterations.\n",
      "  warnings.warn(\"Liblinear failed to converge, increase \"\n",
      "C:\\Users\\Admin\\Miniconda3\\envs\\IntroML\\lib\\site-packages\\sklearn\\svm\\_base.py:946: ConvergenceWarning: Liblinear failed to converge, increase the number of iterations.\n",
      "  warnings.warn(\"Liblinear failed to converge, increase \"\n",
      "C:\\Users\\Admin\\Miniconda3\\envs\\IntroML\\lib\\site-packages\\sklearn\\svm\\_base.py:946: ConvergenceWarning: Liblinear failed to converge, increase the number of iterations.\n",
      "  warnings.warn(\"Liblinear failed to converge, increase \"\n",
      "C:\\Users\\Admin\\Miniconda3\\envs\\IntroML\\lib\\site-packages\\sklearn\\svm\\_base.py:946: ConvergenceWarning: Liblinear failed to converge, increase the number of iterations.\n",
      "  warnings.warn(\"Liblinear failed to converge, increase \"\n"
     ]
    }
   ],
   "source": [
    "l_svr_score = statistics.median(cross_val_score(l_svr,  df_input, Y_table, cv=crossval))"
   ]
  },
  {
   "cell_type": "code",
   "execution_count": 85,
   "metadata": {},
   "outputs": [
    {
     "name": "stderr",
     "output_type": "stream",
     "text": [
      "C:\\Users\\Admin\\Miniconda3\\envs\\IntroML\\lib\\site-packages\\sklearn\\svm\\_base.py:228: ConvergenceWarning: Solver terminated early (max_iter=50000).  Consider pre-processing your data with StandardScaler or MinMaxScaler.\n",
      "  warnings.warn('Solver terminated early (max_iter=%i).'\n",
      "C:\\Users\\Admin\\Miniconda3\\envs\\IntroML\\lib\\site-packages\\sklearn\\svm\\_base.py:228: ConvergenceWarning: Solver terminated early (max_iter=50000).  Consider pre-processing your data with StandardScaler or MinMaxScaler.\n",
      "  warnings.warn('Solver terminated early (max_iter=%i).'\n",
      "C:\\Users\\Admin\\Miniconda3\\envs\\IntroML\\lib\\site-packages\\sklearn\\svm\\_base.py:228: ConvergenceWarning: Solver terminated early (max_iter=50000).  Consider pre-processing your data with StandardScaler or MinMaxScaler.\n",
      "  warnings.warn('Solver terminated early (max_iter=%i).'\n",
      "C:\\Users\\Admin\\Miniconda3\\envs\\IntroML\\lib\\site-packages\\sklearn\\svm\\_base.py:228: ConvergenceWarning: Solver terminated early (max_iter=50000).  Consider pre-processing your data with StandardScaler or MinMaxScaler.\n",
      "  warnings.warn('Solver terminated early (max_iter=%i).'\n",
      "C:\\Users\\Admin\\Miniconda3\\envs\\IntroML\\lib\\site-packages\\sklearn\\svm\\_base.py:228: ConvergenceWarning: Solver terminated early (max_iter=50000).  Consider pre-processing your data with StandardScaler or MinMaxScaler.\n",
      "  warnings.warn('Solver terminated early (max_iter=%i).'\n"
     ]
    }
   ],
   "source": [
    "svr_score = statistics.median(cross_val_score(svr,  df_input, Y_table, cv=crossval))"
   ]
  },
  {
   "cell_type": "code",
   "execution_count": 87,
   "metadata": {},
   "outputs": [
    {
     "name": "stdout",
     "output_type": "stream",
     "text": [
      "GBM_avg : 0.3123986799332046\n",
      "RF_avg : 0.31717568862830103\n",
      "LR_avg : 0.14483544081299093\n",
      "l_svr_avg : 0.018001388557613685\n",
      "svr_avg : 0.004720742560960223\n"
     ]
    }
   ],
   "source": [
    "print(\"GBM_avg : \" + str(GBM_score))\n",
    "print(\"RF_avg : \" + str(RF_score))\n",
    "print(\"LR_avg : \" + str(LR_score))\n",
    "print(\"l_svr_avg : \" + str(l_svr_score))\n",
    "print(\"svr_avg : \" + str(svr_score))"
   ]
  },
  {
   "cell_type": "markdown",
   "metadata": {},
   "source": [
    "## Выполнение 20 разбиений и построение boxPlot"
   ]
  },
  {
   "cell_type": "markdown",
   "metadata": {},
   "source": [
    "### Построение для GBM"
   ]
  },
  {
   "cell_type": "code",
   "execution_count": 89,
   "metadata": {},
   "outputs": [],
   "source": [
    "crossval_next = ShuffleSplit(n_splits=20, test_size=0.2, random_state=13)\n",
    "GBM_results = cross_val_score(GBM,  df_input, Y_table, cv=crossval_next)"
   ]
  },
  {
   "cell_type": "code",
   "execution_count": 92,
   "metadata": {},
   "outputs": [
    {
     "data": {
      "image/png": "[encoded data removed]",
      "text/plain": [
       "<Figure size 432x288 with 1 Axes>"
      ]
     },
     "metadata": {
      "needs_background": "light"
     },
     "output_type": "display_data"
    }
   ],
   "source": [
    "gbm_boxplot = sns.boxplot(x=GBM_results)"
   ]
  },
  {
   "cell_type": "markdown",
   "metadata": {},
   "source": [
    "### Построение для Random Forest"
   ]
  },
  {
   "cell_type": "code",
   "execution_count": 93,
   "metadata": {},
   "outputs": [],
   "source": [
    "RF_results = cross_val_score(RandomForest, df_input, Y_table, cv=crossval_next)"
   ]
  },
  {
   "cell_type": "code",
   "execution_count": 94,
   "metadata": {},
   "outputs": [
    {
     "data": {
      "image/png": "[encoded data removed]",
      "text/plain": [
       "<Figure size 432x288 with 1 Axes>"
      ]
     },
     "metadata": {
      "needs_background": "light"
     },
     "output_type": "display_data"
    }
   ],
   "source": [
    "rf_boxplot = sns.boxplot(x=RF_results)"
   ]
  },
  {
   "cell_type": "markdown",
   "metadata": {},
   "source": [
    "### Построение для Linear Regression"
   ]
  },
  {
   "cell_type": "code",
   "execution_count": 95,
   "metadata": {},
   "outputs": [],
   "source": [
    "LR_results = cross_val_score(LinRegression, df_input, Y_table, cv=crossval_next)"
   ]
  },
  {
   "cell_type": "code",
   "execution_count": 96,
   "metadata": {},
   "outputs": [
    {
     "data": {
      "image/png": "[encoded data removed]",
      "text/plain": [
       "<Figure size 432x288 with 1 Axes>"
      ]
     },
     "metadata": {
      "needs_background": "light"
     },
     "output_type": "display_data"
    }
   ],
   "source": [
    "lr_boxplot = sns.boxplot(x=LR_results)"
   ]
  },
  {
   "cell_type": "markdown",
   "metadata": {},
   "source": [
    "### Построение для SVR"
   ]
  },
  {
   "cell_type": "code",
   "execution_count": null,
   "metadata": {},
   "outputs": [],
   "source": [
    "SVR_results = cross_val_score(l_svr_avg, df_input, Y_table, cv=crossval_next)"
   ]
  },
  {
   "cell_type": "code",
   "execution_count": null,
   "metadata": {},
   "outputs": [],
   "source": [
    "svr_boxplot = sns.boxplot(x=SVR_results)"
   ]
  },
  {
   "cell_type": "code",
   "execution_count": null,
   "metadata": {},
   "outputs": [],
   "source": [
    "\n",
    "\n"
   ]
  }
 ],
 "metadata": {
  "kernelspec": {
   "display_name": "Python 3",
   "language": "python",
   "name": "python3"
  },
  "language_info": {
   "codemirror_mode": {
    "name": "ipython",
    "version": 3
   },
   "file_extension": ".py",
   "mimetype": "text/x-python",
   "name": "python",
   "nbconvert_exporter": "python",
   "pygments_lexer": "ipython3",
   "version": "3.8.1"
  }
 },
 "nbformat": 4,
 "nbformat_minor": 4
}
